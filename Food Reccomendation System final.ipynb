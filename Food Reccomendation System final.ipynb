{
 "cells": [
  {
   "cell_type": "code",
   "execution_count": 1,
   "id": "b3124610-dd43-416c-8631-9ce081329e60",
   "metadata": {},
   "outputs": [],
   "source": [
    "import numpy as np\n",
    "import pandas as pd\n",
    "import difflib\n",
    "from sklearn.feature_extraction.text import TfidfVectorizer\n",
    "from sklearn.metrics.pairwise import  cosine_similarity\n",
    "import re"
   ]
  },
  {
   "cell_type": "code",
   "execution_count": 2,
   "id": "fe503d01-f8cc-42ae-b053-1f3d10baa2d0",
   "metadata": {},
   "outputs": [],
   "source": [
    "fooData = pd.read_csv('C:\\\\Users\\\\shaar\\\\Downloads\\\\FoodReccSystem-main\\\\fooddataset.csv')"
   ]
  },
  {
   "cell_type": "code",
   "execution_count": 3,
   "id": "d1459b16-9b69-4528-ae25-aab41c368b2f",
   "metadata": {},
   "outputs": [
    {
     "data": {
      "text/html": [
       "<div>\n",
       "<style scoped>\n",
       "    .dataframe tbody tr th:only-of-type {\n",
       "        vertical-align: middle;\n",
       "    }\n",
       "\n",
       "    .dataframe tbody tr th {\n",
       "        vertical-align: top;\n",
       "    }\n",
       "\n",
       "    .dataframe thead th {\n",
       "        text-align: right;\n",
       "    }\n",
       "</style>\n",
       "<table border=\"1\" class=\"dataframe\">\n",
       "  <thead>\n",
       "    <tr style=\"text-align: right;\">\n",
       "      <th></th>\n",
       "      <th>Food_ID</th>\n",
       "      <th>Name</th>\n",
       "      <th>C_Type</th>\n",
       "      <th>Veg_Non</th>\n",
       "      <th>Describe</th>\n",
       "    </tr>\n",
       "  </thead>\n",
       "  <tbody>\n",
       "    <tr>\n",
       "      <th>0</th>\n",
       "      <td>1</td>\n",
       "      <td>summer squash salad</td>\n",
       "      <td>Healthy Food</td>\n",
       "      <td>veg</td>\n",
       "      <td>white balsamic vinegar, lemon juice, lemon rin...</td>\n",
       "    </tr>\n",
       "    <tr>\n",
       "      <th>1</th>\n",
       "      <td>2</td>\n",
       "      <td>chicken minced salad</td>\n",
       "      <td>Healthy Food</td>\n",
       "      <td>non-veg</td>\n",
       "      <td>olive oil, chicken mince, garlic (minced), oni...</td>\n",
       "    </tr>\n",
       "    <tr>\n",
       "      <th>2</th>\n",
       "      <td>3</td>\n",
       "      <td>sweet chilli almonds</td>\n",
       "      <td>Snack</td>\n",
       "      <td>veg</td>\n",
       "      <td>almonds whole, egg white, curry leaves, salt, ...</td>\n",
       "    </tr>\n",
       "    <tr>\n",
       "      <th>3</th>\n",
       "      <td>4</td>\n",
       "      <td>tricolour salad</td>\n",
       "      <td>Healthy Food</td>\n",
       "      <td>veg</td>\n",
       "      <td>vinegar, honey/sugar, soy sauce, salt, garlic ...</td>\n",
       "    </tr>\n",
       "    <tr>\n",
       "      <th>4</th>\n",
       "      <td>5</td>\n",
       "      <td>christmas cake</td>\n",
       "      <td>Dessert</td>\n",
       "      <td>veg</td>\n",
       "      <td>christmas dry fruits (pre-soaked), orange zest...</td>\n",
       "    </tr>\n",
       "  </tbody>\n",
       "</table>\n",
       "</div>"
      ],
      "text/plain": [
       "   Food_ID                  Name        C_Type  Veg_Non  \\\n",
       "0        1   summer squash salad  Healthy Food      veg   \n",
       "1        2  chicken minced salad  Healthy Food  non-veg   \n",
       "2        3  sweet chilli almonds         Snack      veg   \n",
       "3        4       tricolour salad  Healthy Food      veg   \n",
       "4        5        christmas cake       Dessert      veg   \n",
       "\n",
       "                                            Describe  \n",
       "0  white balsamic vinegar, lemon juice, lemon rin...  \n",
       "1  olive oil, chicken mince, garlic (minced), oni...  \n",
       "2  almonds whole, egg white, curry leaves, salt, ...  \n",
       "3  vinegar, honey/sugar, soy sauce, salt, garlic ...  \n",
       "4  christmas dry fruits (pre-soaked), orange zest...  "
      ]
     },
     "execution_count": 3,
     "metadata": {},
     "output_type": "execute_result"
    }
   ],
   "source": [
    "fooData.head()"
   ]
  },
  {
   "cell_type": "code",
   "execution_count": 4,
   "id": "73ec703e-ba67-43a1-aaba-d0a6dd3ad91e",
   "metadata": {},
   "outputs": [
    {
     "data": {
      "text/plain": [
       "(400, 5)"
      ]
     },
     "execution_count": 4,
     "metadata": {},
     "output_type": "execute_result"
    }
   ],
   "source": [
    "fooData.shape"
   ]
  },
  {
   "cell_type": "code",
   "execution_count": 5,
   "id": "e4e78bad-ddfa-4587-8d79-3bb543d317a8",
   "metadata": {},
   "outputs": [
    {
     "data": {
      "text/plain": [
       "Food_ID     0\n",
       "Name        0\n",
       "C_Type      0\n",
       "Veg_Non     0\n",
       "Describe    0\n",
       "dtype: int64"
      ]
     },
     "execution_count": 5,
     "metadata": {},
     "output_type": "execute_result"
    }
   ],
   "source": [
    "fooData.isnull().sum()"
   ]
  },
  {
   "cell_type": "code",
   "execution_count": 6,
   "id": "a5ed0080-7a2b-474a-9994-f819e2ad2056",
   "metadata": {},
   "outputs": [],
   "source": [
    "#NO null values found in the given data set\n",
    "\n",
    "#combining all the feature to a list format\n",
    "combinedFeatures = fooData['Name'] +' ' +fooData['C_Type'] +' ' +fooData['Veg_Non'] +' ' +fooData['Describe']"
   ]
  },
  {
   "cell_type": "code",
   "execution_count": 7,
   "id": "b4f1b100-5a58-42a5-b414-127096963b9f",
   "metadata": {},
   "outputs": [
    {
     "name": "stdout",
     "output_type": "stream",
     "text": [
      "0      summer squash salad Healthy Food veg white bal...\n",
      "1      chicken minced salad Healthy Food non-veg oliv...\n",
      "2      sweet chilli almonds Snack veg almonds whole, ...\n",
      "3      tricolour salad Healthy Food veg vinegar, hone...\n",
      "4      christmas cake Dessert veg christmas dry fruit...\n",
      "                             ...                        \n",
      "395    Kimchi Toast Korean veg  cream cheese, chopped...\n",
      "396    Tacos de Gobernador (Shrimp, Poblano, and Chee...\n",
      "397    Melted Broccoli Pasta With Capers and Anchovie...\n",
      "398    Lemon-Ginger Cake with Pistachios Dessert non-...\n",
      "399    Rosemary Roasted Vegetables Healthy Food veg k...\n",
      "Length: 400, dtype: object\n"
     ]
    }
   ],
   "source": [
    "print(combinedFeatures)"
   ]
  },
  {
   "cell_type": "code",
   "execution_count": 8,
   "id": "c945a738-581c-4ef9-9df0-001bbb38c67c",
   "metadata": {},
   "outputs": [
    {
     "name": "stdout",
     "output_type": "stream",
     "text": [
      "baked namak para Snack veg whole wheat flour (atta), refined flour (maida), baking powder, ghee, salt, carom seeds (ajwain)\n"
     ]
    }
   ],
   "source": [
    "print(combinedFeatures[21])"
   ]
  },
  {
   "cell_type": "code",
   "execution_count": 9,
   "id": "35bc2eb2-e8e3-4724-96e9-959b12fc1d45",
   "metadata": {},
   "outputs": [],
   "source": [
    "#data cleaning "
   ]
  },
  {
   "cell_type": "code",
   "execution_count": 10,
   "id": "a1de44bc-46c4-463c-bb34-eb1373bccf8c",
   "metadata": {},
   "outputs": [],
   "source": [
    "# Assuming combinedFeatures is a list of strings\n",
    "combinedFeatures = [feature.replace(',', '') for feature in combinedFeatures]\n",
    "combinedFeatures = [feature.replace('\"', '') for feature in combinedFeatures]\n",
    "combinedFeatures = [feature.replace('(', '') for feature in combinedFeatures]\n",
    "combinedFeatures = [feature.replace(')', '') for feature in combinedFeatures]"
   ]
  },
  {
   "cell_type": "code",
   "execution_count": 11,
   "id": "ddf3709b-7443-454e-aa9a-79472c7ad87f",
   "metadata": {},
   "outputs": [
    {
     "name": "stdout",
     "output_type": "stream",
     "text": [
      "['summer squash salad Healthy Food veg white balsamic vinegar lemon juice lemon rind red chillies garlic cloves crushed olive oil summer squash zucchini sea salt black pepper basil leaves', 'chicken minced salad Healthy Food non-veg olive oil chicken mince garlic minced onion salt black pepper carrot cabbage green onions sweet chilli sauce peanut butter ginger soy sauce fresh cilantro red pepper flakes crushed tarts', 'sweet chilli almonds Snack veg almonds whole egg white curry leaves salt sugar fine grain red chilli powder', 'tricolour salad Healthy Food veg vinegar honey/sugar soy sauce salt garlic cloves minced chilli pepper sliced green papaya carrot peeled cucumbers mint leaves toasted peanuts', 'christmas cake Dessert veg christmas dry fruits pre-soaked orange zest lemon zest jaggery syrup almond flour apple butter softened eggs', 'japanese curry arancini with barley salsa Japanese veg japanese curry sticky rice cheese inside rice barley salsa wasabi mayo red capsicum cube cut yellow capsicum cube cut green capsicum cube cut green chili barley butter white pepper light soya salt', 'chocolate nero cookies Dessert veg almonds eggs granulated sugar bittersweet chocolate unsalted butter flour baking powder castor sugar icing sugar', 'lamb and chargrilled bell pepper soup Healthy Food non-veg lamb bones preferably shank and shoulder onions celery ginger garlic carrot chargrilled red/yellow/green bell peppers quartered whole spices mix black pepper cinnamon cardamom clove bay leaf salt water warm oil sunflower or olive', 'cream of almond soup Healthy Food veg vegetable stock skimmed milk toasted almonds powdered butter flour salt and pepper nutmeg almond essence toasted almond flakes', 'broccoli and almond soup Healthy Food veg vegetable stock broccoli ground almonds toasted skimmed milk salt freshly ground black pepper', 'coconut lime quinoa salad Healthy Food veg uncooked quinoa water red onion cucumber diced purple cabbage avocado ripened and diced orange shelled edamame defrosted unsweetened toasted coconut flakes almonds few shakes of black pepper for the dressing: orange juice lime juiced apple cider vinegar olive oil', 'lemon honey glazed sous vide corn on the cob Snack non-veg young corn on the cob honey lemon juice garlic cloves smashed celery stalk chives carrot salt paprika powder parsley plastic bag food thermometer', 'watermelon and strawberry smoothie Healthy Food veg fresh strawberries honey low fat yogurt watermelon chia seeds', 'peach raspberry and nuts smoothie Healthy Food veg fresh raspberries ripe banana almond fresh peach slices low fat yogurt fresh raspberry peach fruit slices almonds', 'almond and cranberry poha Indian veg almond flakes onion poha cranberries frozen/ dried salt oil curry leaves green chilies fresh coconut', 'almond and raw banana galawat Indian veg almond slivers raw banana boiled almond paste cooking cream refined oil mace powder cardamom powder  ginger garlic paste garam masala powder red chilli powder salt tempura batter', 'baked namakpara with roasted almond dip Snack veg almonds crushed tomato garlic cloves basil sprig lemon salt pepper for namak para: refined flour sugar salt olive oil water', 'grilled almond barfi Dessert veg khoya sweetener optional almonds crushed', 'baked shankarpali  Snack veg whole wheat flour atta refined flour maida garlic cloves crushed salt red chilli powder chaat masala cumin powder tomato puree ghee', 'baked multigrain murukku Snack veg oats ragi flour bhakri atta wheat flour rice flour urad dal flour dry roast and grind the dal to a fine powder cumin seeds green chillies ginger salt oil', 'apple rabdi Dessert veg apples milk sugar green cardamoms almonds blanched pistachios blanched', 'baked namak para Snack veg whole wheat flour atta refined flour maida baking powder ghee salt carom seeds ajwain', 'dates and nuts ladoo Dessert veg dates pitted mixed nuts almonds cashews walnuts pistachios peanuts dessicated coconut optional', 'green lentil dessert fudge Dessert veg whole moong beans cow ghee raisins whole milk jaggery organic ground cardamom almonds halved', 'cashew nut cookies Dessert veg cashew paste ghee khaand a sweetening agent and a healthier substitute of sugar flax or chia seeds plain yogurt baking soda baking powder vanilla oats organic all-purpose flour', 'almond pearls Snack veg toasted almonds blueberries oats corn flakes olive oil salt curry leaves mustard seeds cumin seeds red chilli powder turmeric powder black pepper powder ajwain lemon juice', 'hawaiin papaya salad Healthy Food veg papaya fresh lime juiced watermelon balls or small squares seedless fresh pineapple chunks coconut unsweetened vanilla flavoured yogurt low fat', 'vegetable som tam salad Healthy Food veg raw papaya carrot french bean diamond cherry tomato garlic crush mix chilli somtam dressing peanuts crushed peanuts', 'spinach and feta crepes French veg milk whole fat or skimmed flour water butter honey salt vegetable oil extra butter for crisping the crepe spinach feta cheese crumbled greek yogurt whisked honey', 'couscous with ratatouille - tangy tomato sauce French veg for the cous cous: plain couscous extra virgin olive oil vegetable stock herbs basil parsley thyme cilantro work best for the ratatouille: olive oil regular not extra virgin red onions aubergines cut in to 3 cm cubes zucchini cut in to 3 cm cubes garlic cloves ground cumin sweet paprika tomato paste salt', 'baked almond kofta Snack veg potato boiled nutmeg milk almonds crushed green onions refined flour egg salt pepper eggs refined flour for rolling dried breadcrumbs for rolling', 'almond and amaranth ladoo Dessert veg popped amaranth seeds jaggery almonds slivered unpeeled', 'moong dal kiwi coconut soup Indian veg green gram dhuli moong dal kiwis coconut cream oil bay leaves cumin seeds coriander seeds black peppercorns garlic cloves medium onion carrot turmeric powder curry powder salt fresh coriander sprigs', 'mixed berry & banana smoothie Healthy Food veg Frozen mixed berries ripped bananafresh orange juice low fat curd', 'banana walnut smoothie Healthy Food veg Low Fat Yogurt Banana Walnuts Seeds Facseeds and Chia Seeds Honey', 'spicy watermelon soup Healthy Food veg Watermelon ginger-garlic paste peppermint chili flakes olive oil to cook', 'red rice poha Indian veg Onion Pepper Button Mushroom Wild Mushroom White Wine Tomato Sage Leaf Red Poha Truffle Oil Rosemary', 'mixed salad with lotus root Healthy Food veg Iceberg Lattoos Lolo Rosso Endive Lettuce Red Cabbage Lotus Root Kaddu Yam Beans Small Onions Pomegranate Chalet Oil Pomelo Lemongrass Sauce', 'sweet potato and quinoa bowl Healthy Food veg Sweet Potato Cubes Coconut Onion Knoia Ripe Raisins Cashew Pepper Powder Caen Cassia Salt', 'corn and raw mango salad Healthy Food veg Corn kernels onions green onions paprika raw mango pieces celery stock pieces cherry tomatoes pineapple pieces pasarley green coriander badge leaves black olive lemon juice olive Oil black salt white pepper powder taco shell', 'khichdi Indian veg Quick cooking oats peanuts cumin turmeric powder red chilli powder onion tomatoes carrots green peas ginger green chillies salt extra virgin olive oil water coriander leaves', 'sugar free modak Japanese veg seedless dates almonds cashew nuts walnuts raisins dry coconut poppy seeds ghee', 'beetroot modak Japanese veg gram flour besan semolina rava/sooji beetroot colour or two oven cooked beetroot paste  water oil for frying for sugar syrup: sugar water cardamom powder lemon juice cashews kaju', 'andhra pan fried pomfret Indian veg white pomfret fish sunflower refined ooil red chilli powder salt turmeric powder ginger-garlic paste lemon juiced cumin powder coriander powder garam masala green chilli curry leaves coriander', 'ghee roast chicken dosa quesadilla Mexican non-veg dry red chillies coriander seeds cumin seeds fenugreek seeds black pepper clove garlic turmeric powder boneless chicken curd lemon juiced for cooking chicken: tamarind pulp ginger 1 inch garlic cloves onion tomato ghee red chilli powder salt crushed jaggery dosa batter for 4 dosas processed cheese ghee or oil to crisp the dosa coriander leaves curry leaves deep fried curd salt zeera powder sugar red chilli powder', 'steam bunny chicken bao Japanese non-veg buns all purpose white flour dry yeast sugar salt warm water chicken mince eggs soy sauce sugar sesame oil worcestershire sauce chives aromat powder', 'meat lovers pizza Italian non-veg millet flour tapioca flour soy milk garlic powder baking powder salt tomato sauce mozzarella cheese prosciutto pepperoni chicken salami salami milano rosemary olive oil', 'almond and chicken momos without shell Chinese non-veg chicken mince garlic carrots spring onion ginger soya sauce oyster sauce sesame oil pepper powder egg almonds blanched oil for greasing', 'christmas tree pizza Italian veg pizza dough 2 boules red pepper red onion basil pesto purchased homemade or vegan pesto mozzarella cheese kosher salt', 'french pork chop French veg pork chop pink pepper corn green pepper corn aromatic sauce salt black pepper salted butter refined oil red cabbage bell pepper chop apricot onion red wine ancho chilli cayenne pepper microgreen', 'christmas chocolate fudge cookies Dessert veg unsalted butter brown sugar chocolate chocolate chips eggs flour cocoa powder baking powder', 'chicken parmigiana with tomato sauce Italian non-veg for chicken parmigiana: chicken breast egg whole frozen flour planko bread crumbs fresh italian parsley vegetable oil solid butter unsalted tomato sauce mozzarella cheese italian parmesan cheese thyme for pepperonata: red pepper green pepper yellow pepper red onion fresh tomato butternut squash garlic pure olive oil vegetable oil black pepper corn crushed salt parsley for garnishing: parsley sprig spinach', 'chocolate appe Snack veg rice coconut baking powder vanilla extract cinnamon powder brown sugar unsweetened cocoa powder salt chocolate chips butter', 'sous-vide salmon tikka French non-veg norwegian salmon black garlic pickle butter butchery bag smoked yogurt home made prawn crisp edible flower salt', 'filo pizza Italian veg filo pastry himalayan salt black pepper salted butter tomato sauce broccoli button mushroom green zucchini yellow zucchini capsicum yellow capsicum green capsicum red pizza spice mix mozzarella cheese', 'chocolate samosa Snack veg refined flour desi ghee black cardamom seeds chocolate block almonds cashew nuts pistachio sugar garam masala powder oil', 'fish with jamun sauce Indian non-veg jamun sugar chilli garlic cloves minced cumin powdered fish fillet pomfret or any white fish semolina salt wilted spinach', 'dahi lasooni chicken Indian non-veg chicken boneless cube size chesse garlic ginger garlic paste coriander green chilli paste cream fresh curd kaju paste salt black salt  garam masala chaat masala butter', 'pesto fish kebabs Indian non-veg King fish cut into one inch pieces paprika cut into one inch pieces bezel pasto white wine vinegar salt cooking spray', 'caramelized sesame smoked almonds Snack veg red lentils or masoor dal half-boiled potato grated carrot french beans bread slices ground chickpea flour sattu green chillies ginger onions garlic minced salt sugar chaat masala red chilli powder garam masala corn flour besan bread crumbs for crunchyness coriander refined oil for fryingp', 'crunchy vegetable dal sattu croquettes Italian veg red lentils or masoor dal half-boiled potato grated carrot french beans bread slices ground chickpea flour sattu green chillies ginger onions garlic minced salt sugar chaat masala red chilli powder garam masala corn flour besan bread crumbs for crunchyness coriander refined oil for fryingp', 'active charcoal modak Japanese veg for modak: gram flour besan semolina rava/suji active charcoal water oil for frying sugar water cardamom powder lemon juice cashews kaju', 'flax seed and beetroot modak Japanese veg rice flour salt oil for greasing beetroot puree tossed flax seeds for topping fresh coconut jaggery poppy seeds green cardamom powder nutmeg powder', 'chocolate prunes gujiyas Japanese veg for gujiya pastry: refined flour ghee water salt for gujiya stuffing: dark chocolate prunes mawa sugar cardamom', 'almond  white chocolate gujiya Japanese veg all-purpose flour clarified butter ghee water white chocolate dessicated coconut green cardamom powder almond jaggery', 'betel nut popsicle Dessert veg full cream milk cream mascarpone sugar paan crushed cookie crumble dark chocolate melted caramel sauce', 'clotted cottage cheese croquettes Italian veg black pepper black salt bread crumb corn flour refined oil jalapeno jeera powder maida cottage cheese parsley salt for thousand island dressing: mayonnaise tomato ketchup minced garlic celery black pepper', 'gajar tart French veg white butter breakfast sugar milk full fat refined flour winter carrots ghee sugar khoya cardamom powder cashew nuts crushed almonds crushed full fat milk full fat milk grain sugar green cardamom powder', 'banana and maple ice lollies Dessert veg Banana Greek yogurt heavy cream pure maple syrup coconut', 'shepherds salad tamatar-kheera salaad Healthy Food veg 1 cucumber peeled and chopped onion tomato green chillies garlic buds pasarley olive oil lemon juice salt and pepper', 'carrot ginger soup Healthy Food veg Carrots Olive Oil Salt Vegetable Stock Ginger Thyme Onion Garlic Buds Pepper Freshly Picked', 'dark night Beverage veg whisky honey cinnamon star anise cloves green apple', 'hot chocolate Beverage veg milk chocolate cocoa powder powdered sugar cinnamon vanilla', 'slow cooked spiced sangria Mexican veg red wine merlot / zinfandel apple cider honey orange zested and juiced cloves whole green cardamom cinnamon sticks anise whole brandy', 'detox haldi tea Beverage veg haldi ginger black pepper honey water', 'holi special ice tea thandai Beverage veg ground white pepper kali mirch assam tea bags almonds badam - coarsley crushed poppy seeds khus-khus fennel seeds saunf crushed coarsely cardamom elaichi powder ground sugar saffron kesar strands', 'grilled lemon margarita Beverage veg vanilla infused tequila vanilla liqueur lemon juice lemon lemon', 'spanish artichoke and spinach dip Mexican veg spinach onion cream garlic nutmeg salt lime juice artichoke hearts cubed polenta refined flour salt water butter flour salt pepper freshly ground', 'beetroot and green apple soup Healthy Food veg beetroots green apple onion olive oil salt black peppercorns crushed butter vegetable stock mixed dried herbs fresh cream lemon juice parsley sprigs red chilli flakes soup sticks as required', 'baba budan no. 7 Beverage veg rum espresso sugar syrup/gur jaggery syrup green cardamom pod', 'fruit infused tea Beverage veg chamomile tea bags orange berries blueberries ginger mint leaves boiling water', 'soya milk Beverage veg Soybean hot water', 'spiced coffee Beverage veg Freshly ground coffee cardamom powder ginger milk sugar cream chocolate', 'filter coffee Beverage veg Coffee powder water milk sugar', 'garlic and pinenut soup with burnt butter essence French veg garlic cloves almonds whole parsley bayleaf chicken broth nutmeg egg yolk heavy cream white bread slices butter salt pepper white wine', 'roast turkey with cranberry sauce Healthy Food non-veg whole turkey butter onion celery crumbled sage and thyme  salt and pepper garlic minced balsamic vinegar sugar cranberry', 'roasted spring chicken with root veggies Healthy Food non-veg whole chicken thyme garlic lemon orange salt black pepper butter to rub extra olive oil carrot turnip beetroot chipotle powder parsley', 'peri peri chicken satay Snack non-veg boneless skinless chicken thigh trimmed salt and pepper yogurt chilli powder ginger garlic paste coriander leaves oil to fry peri peri sauce potato fries', 'chicken popcorn Chinese non-veg chicken boneless corn flour or all purpose flour egg bread crumbs salt ginger garlic paste black pepper onion powder optional red chilli powder or paprika or cayenne pepper oil for deep frying', 'half roast chicken Healthy Food non-veg cooking oil whole chicken skin on- rinsed and dressed onions quartered- skin on garlic halved - skin on carrots roughly quartered celery  thyme dunkleweizen pour into a glass and keep open at room temperature for an hour or two to make flat chicken stock butter sea salt', 'chicken biryani Indian non-veg malabar peppercorn cinnamon stick green cardamom pods star anise cloves fennel seeds vermicelli desi ghee shahi jeera bay leaves green chilli mint leaves onion saffron garlic paste salt chicken dark meat ginger paste turmeric powder coriander powder red chilli powder roma tomatoes de-seedeed water', 'chicken farcha Indian non-veg boneless chicken thigh without skin lemon juice garlic paste ginger paste red chilli powder coriander powder garam masala black pepper crushed salt bread crumbs / semolina eggs red chilli powder oil', 'buldak hot and spicy chicken Japanese non-veg chicken drum sticks/ chicken breast soy sauce sugar traditional corn syrup substitution honey cheong ju clear rice wine similar to japanese sake green onion black pepper olive oil sesame seeds optional for marinating sauce: gochugaru red chili pepper flakes alapenos korean pear substitution asian pear onion garlic soy sauce spicy yellow mustard sesame oil sugar mul yut substitution honey', 'chicken sukka Indian non-veg chicken small pieces onion thin slices cardamom salt oil coriander cumin mustard pepper cloves cinnamon bedki chillies kashmiri chilies turmeric onion garlic ginger salt', 'steamed chicken roulade French non-veg lamb mince garlic  salt paprika powder pomodaro tomatoes olive oil celery shallots carrot black pepper bay leaf yellow chilli powder cilantro chicken thigh salt white pepper powder garlic paste white wine vinegar olive oil yellow chilli powder refined oil fenugreek seeds white pepper powder garlic fenugreek leaves onion broken cashew salt fresh cream kasoori methi', 'methi chicken masala Indian non-veg boneless chicken lemon juice red chilli powder salt ginger garlic paste curd red chilli powder salt coriander powder oil onion oil bay leaf green cardamom black cardamom cinnamon ginger garlic paste tomato kasoori methi green chilli water', 'restaurant style fried chicken Chinese non-veg egg salt white pepper maida salt red chilli powder garlic powder ginger powder onion powder oregano chillil flakes white pepper basil chicken drumsticks salt white pepper bread crumbs as required', 'chicken potli Chinese non-veg chicken onion green chilli garlic ginger salt aromatic powder soya sauce oyster sauce spring onion filo sheets', 'spicy chicken masala Indian non-veg mustard oil curry leaves kalonjee saunf garlic onion tomatoes ginger green chillies boneless chicken salt tomato puree red chilli powder cumin powder black salt peppercorn crushed water mint coriander', 'spicy chicken curry Indian non-veg oil ghee onion paste garlic paste ginger paste turmeric powder salt tomato puree coriander powder red chilli powder cumin powder garam masala chicken leg pieces coriander leaves water', 'crispy herb chicken Italian non-veg fresh breadcrumbs parmesan cheese lemon rind fresh parsley leaves garlic powder plain flour egg milk chicken breast supremes vegetable oil mayonnaise sour cream fresh chives dried if fresh not available fresh parsley dried if fresh not available garlic red onion optional ground black pepper salt', 'dahi chicken Indian non-veg dahi cumin powder garlic paste garam masala turmeric powder red chilli powder salt boneless chicken oil green chilli onion tomato', 'amritsari chicken masala Indian non-veg chicken ginger garlic paste curd lemon juice vinegar coriander powder cumin powder red chilli powder salt onion butter red chilli powder coriander powder cumin powder ginger water salt green chilli tomatoes sugar butter  cream', 'chilli chicken Chinese non-veg boneless chicken salt cornflour black pepper egg soy sauce red chilli sauce garlic green chillies green chilli sauce vinegar onion capsicum black pepper salt', 'chicken tenders Snack non-veg chicken breast cut into strips salt garlic paste ginger paste green chilli paste oats refined flour salt freshly ground black pepper fried mixed herbs italian herb garlic powder', 'chicken nimbu dhaniya shorba Beverage non-veg water chicken diced ginger garlic paste coriander lemon cream butter turmeric powder green chilli paste cornflour salt', 'garlic soya chicken Healthy Food non-veg chicken thigh/breast cut crosswise into 1/2-inch-thin strips sesame oil toasted white pepper finely ground ginger juice peanut oil or vegetable oil divided garlic cloves minced ginger red chilli flakes red onion  snow peas trimmed red bell pepper cut into thin strips rice vinegar soy sauce dark soy sauce chinese rice wine brown sugar cornflour', 'cauliflower and chicken biryani Indian non-veg boneless chicken biryani masala yogurt onions coconut oil cauliflower coconut diced onion diced peppercorns cardamoms cumin seeds bay leaves cinnamon cloves coconut oil garam masala dry chilli flakes turmeric powder black peppercorns cardamom cinnamon garlic crushed tomato puree green chillies fresh ginger peeled dry red chilli salt', 'chicken quinoa biryani Healthy Food non-veg onions tomato green chilliesslit open ginger garlic paste mint leaves coriander leaves/cilantro fresh yogurt/curdbeaten turmeric powder chilli powder salt chicken cut into pieces garam masala powder ginger garlic paste yogurt/curd chilli powder coriander powder salt oil cloves bay leaf  cardamom', 'chicken and mushroom lasagna Italian non-veg chicken salt crush black pepper garlic cloves minced olive oil fresh thyme button mushroom onion low fat milk basil basil-tomato sauce', 'plum and cherry roasted chicken Healthy Food non-veg carrot finely diced onion finely diced celery finely diced fresh thyme sprigs whole free range chicken  pepper freshly ground parsley stems celery leaves lemon slices 1/8 inch thick onion carrot fresh lemon juice chicken stock/broth plums cut fresh cherries', 'chicken roulade French non-veg chicken breasts olives jalapenos bell peppersall 3 thyme dried white wine salt black pepper crushed to taste egg olive oil mozerella cheese processed cheese', 'sticky rum chicken wings Snack non-veg chicken wings without skin hung curd chilli powder sweet paprika powder english mustard paste garlic paste salt garlic rum bbq sauce', 'chicken dragon Chinese non-veg Chicken boneless and cut into small pieces eggs lightly whipped maida garlic paste ginger paste salt water oil', 'chicken palwal Indian non-veg Chicken Onion Tomato Green Chilli Cumin Powder Coriander Powder Green Coriander Curd Ginger Garlic Red Chilli Powder Salt Oil', 'pan seared thigh of chicken Mexican non-veg Chicken Thai Salt Pepper Lemon Fresh Thyme Barley Brockley Mushroom Extra Virgin Olive Oil Cherry Tomato', 'chicken in mahalak sauce Indian non-veg Salt sugar seasonings oil corn flour chicken leg fresh chilli garlic ginger onion red chili paste tomato catchup paprika yellow capsicum vegetable stock', 'grilled kasundi honey chicken with sweet potato mash Indian non-veg Chicken breast kasundi Bengali mustard sauce sweet potato red and yellow capsicum broccoli garlic buds refined oil salt butter cream green onion honey ginger and garlic paste', 'chicken dong style Chinese non-veg Oil chicken breast garlic ginger tomato catchup oyster sauce shitake mushrooms bomb shoots boiled salt sugar broth powder shocking wine potato starch sesame oil green onions', 'microwave tandoori chicken Indian non-veg Chicken sliced garlic paste ginger paste Hung curd salt garam masala coriander powder pepper powder cream oil for garnishing: lemon pieces onion rings', 'methi malai cranberry chicken Indian non-veg Chicken sliced ??into large pieces salt cranberry puree red chilli powder garam masala coriander powder cumin powder chaat masala corn flour fenugreek leaves gram flour ginger garlic cream Greek yogurt butter', 'southern fried chicken tenders Snack non-veg Chicken breast cut 20 strips 20 grams all purpose flour salt hot red chillies eggs bread crumbles white cabbage slaw pasarley sprig honey-mustard dip green bell pepper', 'thai style chicken tikka Thai non-veg Chicken Thais Thai Ginger Lemon Leaves Lemongrass Coconut Milk Powder Refined Oil Red Curry Paste Peanut Butter Bezel Leaves Lotus Stem Yellow Butter Chaat Masala', 'chicken gilafi kebab Indian non-veg Chicken Mince Onion Tomato Green Capsicum Green Coriander Green Chilli Salt Oil Cashew Almond Mint Red Chilli Powder Ginger Garlic Paste Cumin Powder Lemon Juice Fresh Cream Kewda Water', 'cheese chicken kebabs Indian non-veg Chicken Thais Garlic Paste Garlic Paste Yellow Chilli Powder Cheese Curd Gram Flour Green Cardamom Powder Yellow Chilli Powder Mace Powder Nutmeg Powder Rock Salt Green Coriander Oil', 'andhra crab meat masala Indian non-veg processed crab meat refined oil curry leaves garlic green chilli onion ginger-garlic paste coriander coriander powder cumin powder turmeric powder garam masala powder kashmiri chilli powder salt lemon chop masala tomato', 'cajun spiced turkey wrapped with bacon Mexican non-veg turkey breast cajun spice spinach leaves cooked and drained garlic pods salted butter feta cheese bacon strips ground black pepper for cajun spice: onion powder garlic powder seasoning salt paprika ground black pepper cayenne pepper oregano thyme red pepper flakes if you like it spicy', 'thai lamb balls Thai non-veg lamb minced couscous scallion garlic egg parsley olive oil mint ao nori herb salt five spice cinnamon powder', 'oyster lamb Thai non-veg vegetable oil garlic ginger lamb stock oyster sauce dry sherry sugar celery salt bokchoy shitake mushroom', 'chicken shami kebab Indian non-veg oil cumin seeds cloves black peppercorns cinnamon coriander seeds ajwain red chilli whole chilli flakes boneless chicken salt water ginger green chilli garlic coriander leaves  mint leaves  egg', 'balti meat Mexican non-veg refined oil black cardamoms green cardamoms mace clove cinnamon stick black pepper corn ginger garlic paste ginger green chilies mutton curry cut brown onion paste salt kashmiri red chili powder tomato puree garam masala powder coriander powder cumin powder', 'coffee marinated mutton chops Thai non-veg mutton chops espresso honey balsamic vinegar rosemary pink peppercorns crushed olive oil salt', 'sali boti parsi meat dish Indian non-veg mutton wash and cut into very small cubes ghee or oil tomatoes onions green chillies coriander leaves chilli powder turmeric powder ginger-garlic paste water vinegar jaggery salt potatoes oil', 'braised lamb shanks Thai non-veg Lang Shanks Olive Oil Onion Carrots Celery Stick Garlic White Wine Lamb Stock White Wine Rosemary Tomata Puree', 'bengali lamb curry Indian non-veg Lamb pieces yogurt turmeric powder castor sugar red chili powder mustard oil onion ginger paste garlic paste green chillies mustard seeds almonds', 'malabari fish curry Indian non-veg sear fish coconut ginger pureed tamarind salt powdered turmeric green chillies red chilli powder shallots', 'japanese fish stew Japanese non-veg sole fillet you can also do 2/3 types of fish large shrimps optional potatoes peeled onions cut into slices garlic cloves red capsicum can use green also parsley or coriander choose the herb that most suits your taste buds few dashes of hot sauce paprika olive oil white wine rock salt', 'malabar fish curry Indian non-veg whole coriander seeds whole red chilli coconut oil mustard seeds onion curry leaf coconut milk tamarind pulp coriander seabass fish curry cuts', 'surmai curry with lobster butter rice Thai veg tamarind red chilli powder turmeric powder salt fresh coconut onion garlic cloves coriander seeds fenugreek seeds red chilli powder turmeric powder tamarind lemon sized butter lobster de-shell and devein and make a small cube salt and lime surmai', 'seared salmon in tabasco butter Thai non-veg butter tabasco chives salt salmon fillet olive oil sea salt', 'risotto lobster with parmesan egg pancake confit tomatoes and coral tuille Italian non-veg lobster shell carrot leeks garlic cloves tomato paste bay leaf peppercorn water lobster meat arborio rice onion leeks lobster stock parmesan cheese cream salt olive oil egg parmesan flour milk parsley salt cherry tomatoes garlic pods olive oil water oil flour salt', 'fish skewers with coriander and red wine vinegar dressing Thai non-veg sea bass fillets olive oil for grilling red wine vinegar sugar extra virgin olive oil garlic clove coriander bamboo skewers', 'seafood rock filler French veg baked tart of mixed sea food served with phyllo fruit bowl savory tart shell semi baked mixed sea food mornay sauce assorted herb and seasoning phyllo pastry assorted seasonal fruit', 'shrimp & cilantro ceviche French veg prawns gherkin onion cilantro mix bell pepper tiger milk sweet corn sea salt black pepper green lemon juice cherry tomato edible flower coriander stems celery stalks garlic ginger red onion lemon juice sea salt black pepper', 'saewoo bokumbop shrimp fried rice Japanese veg cooked rice shrimp de-veined onion cooked green peas green onion egg scrambled vegetable oil/butter soy sauce sesame oil salt pepper', 'thai prawn curry & baked rice  Thai veg jeera whole coriander seeds kashmiri chilly garlic ginger green chillies kokum coconut onion tomatoes coriander prawns salt turmeric powder garlic paste asafoetida refined oil ginger paste goan rice coconut milk green chillies fresh coconut hing refined oil coriander leaves basmati rice coconut milk green chillies coconut milk coconut salt green chillies curry leaf lecite', 'bihari fish curry Indian non-veg rohu fish salt turmeric powder chilli powder oil garlic  green chillies mustard seeds black peppercorns cumin seeds whole red chillies fenugreek seeds tomatoes mustard oil bay leaves water garam masala coriander leaves', 'curry fish fingers Thai non-veg river sole fish cut in thin strips garlic paste salt  lime juice beer flour cornflour white pepper eggs mustard', 'prawn and litchi salad Healthy Food veg prawns shelled and cleaned spring onions mango flesh litchis deseeded chilli flakes lemon for lemon juice olive oil peanuts to garnish salt', 'kerala fish curry Indian non-veg white fish cut into cubes onion tomato garlic cloves fresh green chillies deseeded oil fresh coconut paste red chilli paste coriander powder turmeric powder salt whole dry red chillies black mustard seeds curry leaves tamarind extract water', 'fish andlouse French non-veg white wine and water mix to cover onion salt bay leaf black pepper corns olive oil onion garlic tomatoes peeled and seeded basil leaves spring fresh thyme - optional 1 bay leaf salt and pepper olive oil wine vinegar prepared mustard salt and pepper assorted garden herbs  parsley basil etc.', 'prawn fried rice Thai veg Oil Bacon Prawns Chicken Carrots Garlic Buds Ginger Spring Onion Sweet Chili Sauce Soy Sauce Salt Pepper Sweet Corn Vinegar Baked Rice Green Coriander', 'damdama fish curry Indian non-veg Fish onion tomato reshagi red chilli powder cumin powder coriander powder coriander cumin salt oil', 'fish with white sauce Italian non-veg Fillet fish oil milk flour butter salt ground black pepper', 'chilli fish Chinese non-veg For fish pieces Boneless Flour Cornflour Baking Powder Soy Sauce Celery Pepper Salt Oil Green Onion Sauce: Ginger Garlic Green Chili Soy Sauce Tomato Sauce Chili Sauce Cornflour', 'fish ambultiyal Indian non-veg Tuna onion fenugreek whole chilli pandan leaf salt water cardamom cinnamon coriander powder black pepper red chilli curry powder garlic crushed chili flakes gorca salt', 'chettinad fish fry Indian non-veg Surmai fish oil garlic buds ginger mash cumin fennel whole coriander black pepper mustard seeds curry leaves salt oil water tomatoes red pepper powder turmeric powder tamarind pulp cornflour lemon pieces of', 'fish moilee Indian non-veg Basa fish onion ginger garlic buds green chillies turmeric red chilli powder coriander powder lemon juice curry leaves refined oil refined oil mustard seeds black pepper fennel green cardamom coconut milk Cherry tomatoes', 'batter fish Mexican non-veg Fresh fish pieces river sol or sea bass maida passerley oil baking powder maida egg optional soda water salt and pepper', 'fish salan Mexican non-veg King fish ripe tomatoes desi ghee ginger-garlic paste onion turmeric powder red chilli powder black pepper powder garam masala ginger turmeric powder fennel powder refined oil salt water', 'spanish fish fry Mexican non-veg Sol fish tomato onion lemon juice olive oil ginger and garlic paste bay leaves cinnamon stick green chillies vinegar salt water', 'prawn potato soup Thai veg Onion potato prawns eggs milk butter coriander salt water', 'red rice vermicelli kheer Indian veg red rice vermicelli / broken sooji / semolina vermicelli butter almonds whole milk cardamom powder saffron strands / thread sugar', 'green cucumber shots Healthy Food veg english cucumbers garlic cloves smashed romaine lettuce basil parsley cilantro big lemon sea salt olive oil', 'thai pineapple rice Thai veg rice onion thai ginger  fresh turmeric curry leaf lemon grass coconut milk salt hot curry powder pineapple chunks oil water turmeric powder fresh pineapple', 'green asparagus risotto Italian veg carnaroli rice vegetable broth butter extra virgin olive oil parmigiano cheese onion minced white wine salt & pepper', 'veg fried rice Chinese veg oil ginger-garlic paste spring onion carrot cabbage capsicum salt soy sauce vinegar rice', 'egg and garlic fried rice Chinese non-veg oil garlic spring onion  ginger red chilli  egg cooked rice salt black pepper powder soya sauce', 'curd rice Indian veg rice water curd milk carrot green chilli ginger salt coriander leaves oil mustard seeds chana dal urad dal curry leaves red chilli hing', 'fried rice with soya chunks Chinese veg basmati rice carrot capsicum beans green peas ginger garlic green chillies bay leaf cinnamon sticks green cardamoms clove soya chunks salt', 'corn pulao Indian veg basmati rice american corn kernels olive oil onion ginger garlic paste salt green chillies cumin seed bay leaf pepper corn cloves hot water coriander leaves lime juice bell pepper saut?ed and diced coconut', 'zucchini methi pulao Indian veg zucchini basmati rice fenugreek methi clarified butter desi ghee clarified butter desi ghee cumin seeds jeera asafoetida heeng green chilles ginger salt', 'lemon rice Indian veg cooked basmati rice oil asafoetida heeng mustard seeds sarson curry leaves kadhi patta whole red chilli sabut laal mirch turmeric powderhaldi salt lemon juice peanuts urad dal chana dal ginger', 'kale channe ki biryani Indian veg black gram kala chana basmati rice soaked for 2 hours cinnamon green cardamoms cloves ghee black cardamoms black peppercorns bay leaves onions green chillies slit ginger-garlic paste coriander powder turmeric powder yogurt fresh mint leaves fresh coriander leaves garam masala powder red chilli powder salt cashew nuts almonds milk fresh cream saffron ginger screw pine essence kewra browned onions whole wheat flour dough', 'chicken paella Mexican non-veg chicken oil salt and pepper paprika powder chilli flakes garlic paste onions bell peppers rice vegetable stock saffron peas olives parsley white wine', 'thai fish curry Thai non-veg fish cubed thai green curry paste oil onions garlic ginger/galangal coconut milk coriander lemon juice palm sugar basil leaves salt & pepper', 'vegetable pulao Indian veg water basmati rice ghee paneer cooked carrot beans peas elaichi cardamoms cinnamon bay leaves cumin seeds chilli powder turmeric salt coriander leaves', 'oats shallots pulao Healthy Food veg Rice Green Coriander Green Chillies Onion Cinnamon Cardamom Cloves Red Chilli Powder Salt Garlic Flakes Ginger Chalet Olive Oil', 'shiitake fried rice with water chestnuts Chinese veg Shitake Mushrooms Vegetable Oil Garlic Buds Green Chillies Water chestnuts Onions Leaks Celery Ginger Sesame Oil Rice Baked White Chillies Salt Rice Wine Vinegar Green Onions Small Bunch Pasarley Sesame Oil', 'lotus leaf wrapped fried rice Chinese veg Jasmine Rice Baked Edamame Beans Mock Meat Shitake Mushroom Spring Onion Dark Soy Sauce Sunflower Oil Salt', 'vegetable biryani Indian veg Cumin Onion Ginger Garlic Mix Vegetable Coriander Powder Garam Masala Turmeric Powder Salt Red Chilli Powder Green Chillies Lemon Juice Steamed Rice Green Coriander', 'avial with red rice Indian veg Red rice water potatoes carrots raw banana drumstick small raw mango sour curd bean stick onion salt turmeric water coconut oil green chillies mustard seeds crushed', 'rice in lamb stock Thai non-veg Rice desi ghee big cardamom bay leaf cinnamon stick fennel onion lamb bonz royal cumin cashew cream green cardamom powder salt water', 'vegetable bruschetta Italian veg baguette grilled slices black olive tapenade artichoke hearts lettuce arugula trummed tomato confit fresh basil leaves mint leaves zucchini goat cheese parmesan cheese shavings mozzarella buffalo cheese', 'red wine braised mushroom flatbread Italian veg olive oil fresh buffalo mozzarella cheese canned pelati tomatoes cooked pizza/flatbread base mushrooms red wine parsley garlic cloves halved salt', 'strawberry & pistachio breton tart Dessert veg plain flour baking powder sea salt unsalted butter egg yoks castor sugar double cream yolk sugar gelatine butter pistachio paste strawberry', 'tricolour pizza Italian veg pizza base  pizza sauce mozzarella cheese black olive green capsicum carrots olive oil', 'instant rava dosa Indian veg rava/suji/semolina rice flour all purpose flour fresh coconut pieces jeera green chilli dhaniya onion diced salt water oil ghee/clarified butter', 'easy bread poha Indian veg oil hing mustard seeds curry leaves whole red chillies cookes peas peanuts turmeric powder salt bread green chillies lemon juice coriander leaves dessicated coconut', 'bread chana basket Indian veg bread white/brown butter for chana chaat: chana onion tomatoes cumin seeds ginger garlic paste chilli powder chana masala turmeric powder  oil salt', 'spaghetti with clams & crispy bread crumbs Italian veg panko 1/4 cup plus 1 tablespoon extra-virgin olive oil plus more for drizzling kosher salt freshly ground pepper garlic cloves manila clams or cockles scrubbed dry white wine spaghetti lemon zest lemon juice mullet bottarga optional; see note red pepper thyme rosemary parsley', 'kasha bread French veg kasha boiling water buckwheat flour all-purpose gluten free flour brown sugar baking powder baking soda xanthum gum salt buttermilk cream egg oil walnuts', 'egg paratha Indian non-veg whole wheat flour salt oil eggs onions green chilli coriander leaves garam masala', 'egg and cheddar cheese sandwich Mexican non-veg egg salt pepper ham slices basil leaves', 'egg in a blanket French non-veg eggs brown bread slices butter chilli flakes oregano salt', 'bread dahi vada Indian veg bread slices curd oil salt and black pepper  red chilli powder aamchoor powder mint leaves zeera powder anardana', 'cheese and avocado parantha Mexican veg Wheat flour Kasuri methi water olive oil avocado mozzarella cheese pizza tasting ghee salt', 'bread with tomatoes and olives Italian veg French Bread Loaf Tomato Extra Virgin Olive Oil Salt Black Pepper Passerley Stuffed Green Olive', 'lemon poppy seed cake Dessert veg plain flour baking powder salt castor sugar baking soda eggs butter vanilla essence lemon juice poppy seed lemon peel to serve: lemon syrup whip cream fresh berry', 'chocolate kaju katli Dessert veg cashew nuts sugar water milk chocolate or dark chocolate', 'mix fruit laccha rabri tortilla crunch Mexican veg milk sugar cardamom powder saffron almonds and pistachios grapes apple kiwi orange pomegranate mint leaves tortilla sheet oil', 'pista chocolate & mandarin Dessert veg Pistachios milk sugar broken rice green cardamom white chocolate milk egg yolks whipped cream vanilla pod mandarin sugar water', 'banana and chia tea cake Dessert veg Banana Castor Sugar Flour Oil Milk Eggs Baking Soda Flax Seeds Almond Flakes Chia Seeds', 'chocolate and almond rum ball  Dessert veg Chocolate sponge eggless dark chocolate single cream almonds castor sugar instant coffee powder dark rum', 'lemon sushi cake Dessert veg Vanilla pre mix gel oil water egg yolks lemon juice sugar butter white chocolate cooking cream milk', 'chocolate doughnut Dessert veg Sugar egg yolks egg butter yeast milk', 'spiced almond banana jaggery cake Dessert veg Butter cinnamon molasses powder nutmeg powdered almonds sugar eggs orange peel banana flour baking soda baking powder salt buttermilk powdered cinnamon', 'fennel scented sweet banana fritters Dessert veg Wheat flour banana jaggery milk or water ghee or oil', 'camel milk cake tart Dessert veg Camel milk sugar vinegar butter brown sugar maida eggs', 'quinoa coconut crumble custard Dessert veg Knoia cooked oats cinnamon powder salt brown sugar or jaggery nuts coconut nuts eggs kinoia coconut milk maple syrup vanilla extract cinnamon powder salt honey', 'lamb barley pot Healthy Food non-veg pot barley onions worcestershire sauce chilli flakes mustard seeds thick mutton chunks thick neck of lamb chops water or stock to cover salt black pepper freshly ground', 'al hachi chicken Indian non-veg shallow fried chicken bottle gourd boiled and sun dried onion garlic whole spices: green cardamom black cardamom cinnamon sticks turmeric deggi mirch fennel seeds powder dry ginger powder coriander powder salt mustard oil desi ghee', 'berry parfait hazelnut white chocolate sable Dessert veg for berry parfait: egg yolk caster sugar berry puree cream cheese double cream for hazelnut streusel: ground hazelnut flour caster sugar butter for hazelnut white chocolate pressed sable: hazelnut streusel cocoa butter puffed rice clarified butter melted white chocolate for flexy berry: raspberry puree sugar liquid glucose pectin', 'badam papite ke kebab with pineapple salsa Indian non-veg Raw papaya raw potato almonds salt asafoetida turmeric celery coriander ginger green chillies gram flour green coriander oil pineapple onion green chillies green coriander lemon juice salt pepper', 'mixed vegetable soup Healthy Food veg Mix vegetable tomatoes carrots peas and French beans salt cumin powder oil curry leaves', 'duo of chocolate and strawberry Dessert veg dark chocolate white chocolate strawberries', 'mustard-parmesan whole roasted cauliflower Healthy Food veg cauliflowers garlic halved olive oil  dijon mustard  kosher salt  freshly ground black pepper  fresh parsley leaves parmesan  lemon wedges', 'hassel back sweet potatoes Healthy Food veg sweet potatoes butter brown sugar pure vanilla extract ground cinnamon himalayan pink salt / rock salt', 'mother christmas cake Dessert veg tart apples 2 large sugar apple juice eggs vegetable oil vanilla extracts all-purpose flour apple pie spice cinnamon salt pecans candied red cherries halved candied green cherried halved candied pineapple diced cashews optional', 'matcha tea macarons Dessert veg egg whites breakfast sugar icing sugar almond powder matcha powder heavy cream white chocolate', 'amaranthus granola with lemon yogurt berries and marigold Healthy Food veg popped amaranthus cholai oats almonds cinnamon powder sunflower seeds sesame seeds honey brown sugar salt olive oil lemon rind plain yogurt whipped with lemon rind blueberries', 'chocolate fudge cookies Dessert veg dark chocolate coverture butter sugar eggs flour baking powder salt cocoa powder vanilla essence', 'veg summer rolls Thai veg rice paper sheets iceberg lettuce carrot bean sprouts cucumber tofu basil mint leaves coriander rice noodles soaked in warm water for 20-25 minutes peanuts hoisin sauce peanuts garlic oil red chillies water', 'eggless vanilla cake Dessert veg maida baking powder castor sugar butter milk vanilla essence vinegar', 'sweet potato pie Dessert veg yams red skinned condensed milk sugar egg  cinnamon  marshmallows ', 'wok tossed asparagus in mild garlic sauce Healthy Food veg asparagus 1 fried onion medium 1/2 tsp breakfast sugar 10 ml potato starch 20 ml stock vegetarian 20 gm porcini salt to taste 50 ml oil', 'cinnamon oatmeal pancakes Healthy Food veg rolled oats buttermilk divided whole wheat flour or oat flour baking powder baking soda cinnamon salt eggs canola oil  honey or maple syrup', 'chocolate chip cheesecake Dessert veg butter biscuits broken into pieces butter softened cream cheese softened sugar egg rose essence or vanilla essence chocolate chips', 'chocolate lava cake Dessert veg dark chocolate butter icing sugar egg yolks + whole eggs flour', \"eggless coffee cupcakes Dessert veg maida/ flour baking powder sugar cocoa powder vanilla essence butter softened salted. in case you are using unsalted butter add 1/4 tsp salt milk to make the batter smooth. adjust the milk quantity according to your batter's smoothness coffee powder + 1 tsp water to make a paste you can increase or decrease according to your coffee tolerance\", 'chicken in white wine Italian non-veg black pepper plain flour olive or sunflower oil rashers lean bacon onions or shallots cut in half mushrooms butter boneless and skinless chicken breasts chopped into 3cm pieces dry white wine chicken or vegetable stock garlic cloves bay leaves fresh thyme sprigs washed or 1/2 tsp dried thyme', 'apple and walnut cake Dessert veg Apple Eggs Walnuts Sugar Walnuts Oil Flour Baking Powder Cinnamon Powder', 'gluten free almond cake Healthy Food veg Almond Powder Egg Honey Baking Soda Vanilla Essence Salt Honey Almond', 'cinnamon star cookies Dessert veg Butter Castor Sugar Christmas Mix Spicy Cinnamon Powder Honey Glucose Cream Poultry Flour Baking Soda Bread Flour', 'whole wheat cake Healthy Food veg Oven temperature wheat flour jaggery sugar baking powder oil eggs water almond essence walnuts', 'plum cake Dessert veg oven temp: 150 c-300 f butter sugar eggs almonds vanilla essence mixed fruits sultanas raisins candied peels and cherries refined flour', 'double chocolate easter cookies Dessert veg Butter Brown Sugar Castor Sugar Vanilla Essence Dark Chocolate Refined Flour Cocoa Powder Baking Soda Salt Milk Cadbury Gems', 'holi special malai kofta Indian veg potatoes paneer cottage cheese maida coriander leaves chopped onion ginger-garlic paste tomatoes malai or cream raisins and cashew nuts cashew nuts paste haldi red chilli powder kitchen king masala kasuri methi dry fenugreek salt sugar', 'homemade gulab jamun Dessert veg sugar water milk cardamom seeds saffron cardamom powder khoya baking soda maida milk', 'lamb rogan josh French non-veg lamb chops or stewing lamb vegetable oil cassia bark or cinnamon stick bay leaves green cardamoms onions garlic cloves butter turmeric chilli powder ground cumin ground coriander tomato puree salt garam masala lemon juice', 'fish curry Thai non-veg fresh sole fish black pepper powder lemon juiced onion coriander seeds black pepper raw rice garlic cloves coconut coriander leaves ginger large cinnamon powder clove powder ground nut oil tamarind paste cooking oil salt', 'rice kheer Indian veg milk rice washed sugar raisins green cardamoms almonds shredded', 'assorted rice kheer sushi Japanese veg basmati rice milk sugar pistachio almonds green cardamomspowdered saffron rose water rose petals dried dark chocolate', 'jalebi with fennel yogurt pudding Dessert veg all purpose flour yogurt oil sugar water saffron green cardamom yogurt strained milk warm sugar nutmeg cardamom powder', 'broccoli souffle Italian veg broccoli butter extra virgin olive oil all-purpose flour low fat milk salt black pepper cheddar cheese eggs separated egg whites cream of tarter', 'christmas dry fruit cake Dessert veg butter at room temperature dark brown sugar eggs flour salt all spice powder cinnamon nutmeg currants; golden raisins; dark raisins each soft dried figs dates pitted prunes stoned dried apricots dried almonds chopped brandy instant espresso mixed with 1 tbsp water', 'microwave chicken steak Healthy Food non-veg chicken breasts boneless eggs slightly whisked ginger paste garlic paste onions coriander leaves green chillies black pepper powder flour vinegar salt oil', 'cheese and ham roll Snack veg hung curd butter cream ground pimento lemon juice vodka salt and pepper asparagus spearscooked ham pineapple slices', 'vegetable manchurian Chinese veg mixed vegetables - chopped fine or grated eggs slightly beaten refined flour garlic paste ginger paste water oil  garlic  onions  capsicum cornflour blended with water vinegar salt soya sauce tomato puree celery ajinomoto optional water', 'jerk chicken Indian non-veg chicken legs lime halved jerk seasoning powder bottled jerk seasoning paste bottled olive oil', 'lemon poppy seed cake  Dessert veg Flour Baking Powder Salt Castor Sugar Baking Soda Eggs Butter Vanilla Essence Lemon Juice Poppy Lemon Peel Lemon Syrup Wiped Cream Fresh Berry', 'steam bunny chicken bao  Japanese non-veg Buns Flour Dry Yeast Sugar Salt Hot Water Chicken Mince Eggs Soy Sauce Sugar Sesame Oil Worcestershire Sauce Chives Aromat Powder', 'double chocolate easter cookies  Dessert veg Butter Brown Sugar Castor Sugar Vanilla Essence Dark Chocolate Refined Flour Cocoa Powder Baking Soda Salt Milk Cadbury Gems', 'orange quinoa sevaiyan Healthy Food veg sevaiyan quinoa orange juice  dried figs sugar almond milk desi ghee jaggery walnuts melon seeds peanuts', 'spicy creamy kadai chicken Indian non-veg chicken ginger-garlic paste pepper powder lime juice oil salt tomatoes green chillies ginger-garlic paste chilli powder black cardamoms cloves water onion ginger green chillies chilli powder turmeric powder garam masala kasturi methi cream', 'apple kheer Dessert veg apples basmati rice nuscovado sugar you can also use normal sugar cashew nuts and almonds cassia bark or cinnamon stick red grapes', 'ragi oats ladoo laddu Dessert veg ragi flour oats flour dates ripe milk honey ghee green cardamom powder white sesame seeds coconut powder cashew nuts', 'lamb korma Indian non-veg onions almond paste ghee cinnamon sticks green cardamom cloves mace bay leaves garlic paste ginger paste lamb salt rose water infused with 4-5 strands of saffron yellow chilli powder yogurt yellow chilli powder black pepper powder coriander seed powder cumin powder red chilli powder turmeric powder clove powder green cardamom powder rose petal powder nutmeg powder black cardamom powder fennel powder cinnamon powder mace powder onions cream/malai', 'ragi coconut ladoo laddu Dessert veg finger millet flour ragi jaggery peanuts coconut salt', 'quick chicken curry Indian non-veg Chicken onion paste tomato garlic paste ginger paste coriander powder cumin powder turmeric powder red chilli powder garam masala powder oil salt green coriander', 'chicken shaami kebab Indian non-veg Chana Dal Chicken Thai Salt Whole Red Chillies Cumin Whole Coriander Cloves Pepper Whole Cinnamon Stick Celery Eggs Green Coriander Mint Green Chillies Ginger Garlic Buds Oil', 'chicken masala Indian non-veg Chicken ginger garlic onion tomato garam masala bay leaves salt turmeric coriander powder red chilli powder oil green coriander cream', 'holi special bhang pakode Indian veg besan potato fresh bhang leaves spinach bhang seed powder ajwain fresh green chilly  salt tamarind paste red chilly powder mustard seeds whole red chilli soda', 'kuttu atta pizza Italian veg kuttu atta salt sugar yeast mozzarella cheese fresh tomato basil cottage cheese green chillies olive oil salt black pepper crushed oregano', 'arbi kofta with mint yogurt dip Snack veg arbi/colocasia roots water chestnut flour kuttu ka aata green chili ginger carom seeds rock salt oil mint curd cucumber pomegranate', 'puffed rice squares Snack veg puffed rice nuts honey jaggery butter kewda to flavor cardamom powder', 'red velvet banana pudding Dessert veg one can of sweetened condensed milk ice cold water instant vanilla pudding mix cream cheese softened and cut into 8 pieces heavy cream one 9 x 13 inch layer of red velvet cakcake ripe bananas mini chocolate chips sugar cocoa cake flour baking soda salt butter room temp cut into 1 inch pieces eggs milk sour cream cider vinegar vanilla extract red food coloring all-purpose flour milk unsalted butter room temperature sugar vanilla extract', 'baked wild berry cheesecake Dessert veg butter digestive biscuits berries cream cheese castor sugar vanilla extract egg lightly beaten icing sugar', 'spiced orange valencia cake Dessert veg egg whites egg white powder sugar almond powder hazelnut powder sugar hazelnut toasted', 'jalapeno cheese fingers Mexican veg yellow cornmeal sugar baking soda salt buttermilk well-shaken egg cheddar extra sharp scallion white and pale green parts only pickled jalapenos drained unsalted butter', 'californian breakfast benedict Snack veg brioche loaf avocado paste eggs tomato spinach nutmeg powder phyllo pastry sheet assorted seasonal fruits hollandaise sauce', 'chocolate marquise Dessert veg dark chocolate melted castor sugar egg yolk egg cocoa powder coffee cream berries dark chocolate fresh cream', 'corn & jalapeno poppers Mexican veg fresh corn kernels corn flour whole egg cheddar cheese jalapeno poppers smoked paprika coriander toasted & ground green onions fresh cilantro lemon zest and juice cooking oil', 'banana phirni tartlets with fresh strawberries Snack veg basmati rice soaked in water milk cardamom powder milk saffron sugar banana fresh strawberries plain flour butter chilled castor sugar egg yolk chilled water', 'mexican pizza Mexican veg Dough tortia refried beans bell paper spring onion lettuce mozzarella cheese orange cheddar cheese chitpole dressing for pico de chelo tomato onion lemon juice salt green chilli coriander black beans boiled  Tomato onion vine paper vegetable oil', 'apple and pear cake Healthy Food veg Core Chopped and Sliced ??Apple Core Chopped and Sliced ??Pears Castor Sugar Vanilla Essence Sunflower Oil Eggs Flour Milk Baking Powder Milk Cinnamon Stick Egg yolks Castor Sugar', 'microwave chocolate cake Dessert veg Flour castor or powdered sugar oil butter or margarine cocoa powder water vanilla essence baking soda baking powder salt egg', 'white chocolate and lemon pastry Dessert veg White chocolate fresh cream VIP cream vanilla bean vanilla extract cream cheese gelatin lemon egg yolks butter castor sugar', 'mixed beans salad Healthy Food veg mixed boiled beans choose from rajma chawli chick peas hara chana spring onions tomatoes diced oil lemon juice basil garlic salt and pepper for garnish: coriander', 'baked raw banana samosa Snack veg onion ginger curry powder fresh coriander green chilli raw banana paste refined oil mustard seeds phyllo sheets salt', 'coconut mango oatmeal with cinnamon hint Healthy Food veg coconut tender coconut milk oats ripe mango diced castor sugar dry fruits honey cardamom powder', 'fruit cube salad Healthy Food veg watermelon cantaloupe kiwifruiit pineapple marshmallow mint leaf crushed nuts sesame seeds or cinnamon', 'veg hakka noodles Chinese veg noodles salt oil garlic paste ginger paste beans cabbage carrot spring onion capsicum soy sauce green chilli sauce tomato sauce', 'strawberry quinoa pancakes Healthy Food veg quinoa milk olive oil egg slightly beaten baking powder orange essence castor sugar maple syrup strawberries to garnish', 'spinach & banana pancakes Healthy Food veg Rolled Oats Milk Spinach Banana Egg Cinnamon Powder Vanilla Extract Baking Powder', 'french onion grilled cheese French veg Brown slice bread onion oil emmental cheese', 'pasta in cheese sauce Italian veg Milk Flour Butter Pepper Powder Nutmeg Cheese Pasta of your choice', 'deviled scotch egg French non-veg Lamb Keema Rosemary Thyme Eggs hard boiled peel Flour Eggs Lightly Whipped Panco Peanut Oil Salt Pepper Mayonnaise Apple Cedar Vinegar English Mustard Salt Pepper Paprika and Olive Powder', 'amritsari fish Indian non-veg fish with curry ginger and garlic', 'butter chicken Indian non-veg mughalai delecacy', 'chicken razala Indian non-veg chicken cooked in a rich gravy with mint', 'chicken tikka Indian non-veg  served on a skewer', 'chicken tikka masala Indian non-veg chicken roasted in a yogurt tomato sauce. creamy texture.', 'mushroom matar Indian veg mushroom and peas in a masala/chili sauce', 'tandoori chicken Indian non-veg as a dish originated in the punjab before the independence of india and pakistan.', 'tandoori fish tikka Indian non-veg chickenn lime and ginger and cooked over an open fire.', 'chettinadu chicken Indian non-veg chicken and spices', 'chicken 65 Chinese non-veg ed chicken preparation. chicken onion ginger', 'kolim / jawla Indian veg dried fish named kolim or jawla found in coastal maharashtra with onion and spices. usually eaten with bhakri or chapati', 'black rice Healthy Food veg riety of rice', 'brown rice Healthy Food veg riety of rice.', 'koldil chicken Chinese non-veg made with banana flower; an assamese specialty', 'red rice Healthy Food veg riety of rice.', 'rice Indian veg boiled rice', 'sunga pork Japanese veg curry', 'banana chips Snack veg dried slices of bananas fruits of herbaceous plants of the genus musa of the soft sweet dessert banana variety they can be covered with sugar or honey and have a sweet taste or they can be fried in oil and spices and have a salty and/or spicy taste.[2]', 'bhurji- egg Indian non-veg made using indian spices onion tomatoes green chilli and had with bread or parathas.', 'flattened rice / poha Indian veg dehusked rice which is flattened into flat light dry flakes these flakes of rice swell when added to liquid whether hot or cold as they absorb water milk or any other liquids. the thicknesses of these flakes vary between almost translucently thin the more expensive varieties to nearly four times thicker than a normal rice grain.', 'puffed rice Snack veg grain made from rice; usually made by heating rice kernels under high pressure in the presence of steam though the method of manufacture varies widely. pori puffed rice has been mentioned in various tamil literatures as an offering to hindu deities. offerings of pori and jaggery made to vinayagar lord ganesh are mentioned in the tiruppugazh a 15th-century anthology of tamil religious songs written by tamil poet arunagirinathar. pori is offered to hindu gods and goddesses in all poojas in the south indian states of kerala and tamil nadu.', 'Miso-Butter Roast Chicken With Acorn Squash Panzanella Japanese non-veg chicken acorn squashsage rosemary butter', 'Honeydew Salad with Ginger Dressing and Peanuts Healthy Food veg peeled ginger lightbrown sugarchilli honeydew meloncucumber avacado', 'Kimchi and Miso Noodle Soup Korean veg scallions cloves of garliccabbage kimchi tofu ', 'Spicy Korean Steak Korean non-veg  boneless steak olive oil black pepper oyster sauce  ginger chilli flakes cooking wine kimchicilantro', 'French Spiced Bread French veg all purpose flour butter dried appricots honey milk dried plumps sugarsalt', 'Quinoa Bowl and Berries Healthy Food veg quinoa black berriesstrawberries blueberrieschia seeds almonds', 'Shawarma-Spiced Braised Leg of Lamb Indian non-veg cumin seed garlic chilli powder lamb leg corriender onion turmeric powder lemon tomato', 'Roast Pork Tenderloin with Carrot Romesco  Korean non-veg carrots Olive Oil Salt   pork tenderloin Garlic red pepper flake red wine vineger ', 'Ricotta Gnocchi with Asparagus Peas and Morels Italian veg  ricottaAsparagus  morel mushrooms Olive Oil  Parmesan fresh peas butter black pepper  shallot ', 'Crispy Pakora Indian veg Cabbage carrot onion gram flour', 'Lamb Tikka Indian non-veg Boneless Lamb Turmeric powder corriender powder cumin powder yogurt garlic giner', 'Grilled Sweet Prawn Chinese non-veg Prawn teriyaki sauce salmon avacado cucumber', 'Pho Tai rare beef Vietnames non-veg Bean Sprouts lemon Thai basils Rice noodles beef', 'Summer Rolls Vietnames non-veg Mint Lettuce Noodles Prawn Rice PaperPeanut Sauce', 'Spice Chicken Baugette Vietnames non-veg Spice Chicken cucumber coriander pickled carrort mayo', 'Bean Curd Rolls Vietnames veg bean curdmix herbs lettuce cucuber rice paper', 'Pho Chay Soup Vietnames veg Rice noodlevegatable soup bean curd mushroom', 'Pho Ga Chicken Vietnames non-veg Rice noodle chicken lemon bean sprouts Thai basils chicken', 'Chicken Sweet Corn Soup Chinese non-veg ChickenChicken brouth Sweet corn garlic ginger', 'Thai Spareribs Thai non-veg  lemongrass ginger meaty sparerib Sesame-Cilantro Ricepeanut saucesesame oilgarlic soy sauce ', 'Frenched Green Beans French veg  green beans Olive Oil black paper vineger', 'Lemony Crab Salad with Baby Greens Healthy Food non-veg Lemon juice olive oil crab lecttus papersalt vineger', 'Mushroom Manchruian Indian veg Mushroom Panner Soy sauce ketchup Vinigeronion corriender Indian Spices', 'Biryani Indian non-veg Chicken Rice Cinamon Clove ginger garlic yougurt turmeric powder cumin powder corriender powder', 'Tandoori Chicken Indian non-veg Cicken yougurt tandori spices ginger coriander turmeric lime', 'Shrimp Olivier French non-veg Shrimp egg Potatoes carrot onion pasley mayo', 'Potato Casserole Italian veg potatoes butter salt pepper', 'Thyme-Roasted Sweet Potatoes Healthy Food veg sweet potatoes thyme leaves olive oil red papper flakes', 'Noodle Curry Vietnames non-veg Vegetable stock curry coconut lime leaves raddish carrot', 'Grill Lemon grass Pork baguette Vietnames non-veg Lemon grass pork coriendercucumber pickeled carrot chilli', 'Sukuti Chatpate Nepalese non-veg crunchy noodles onion cucumbertomatoes lemon juice puffed rice dried meat', 'Cheese Naan Indian veg Aall purpose flour yougurt cheese', 'Mushroom Rice Nepalese veg Mushroom Rice Cumin Seeds', 'Bringle Alo Nepalese veg auberginepotato garlic ginger cumin seeds spices', 'Mutar Paneer Indian veg Green pea cottage cheese garlic indian spices', 'Cucumber and Radish Salad Healthy Food veg cucumberraddishvinegar corianderolive salt papper', 'Channa Masala Indian veg chickpeas turmeric powder onion ginger garlic curry powder', 'Saag Alo  Nepalese veg Spinach onion potato cumin seed turmeric powder nepali spices', 'Alo Tama Bodi Nepalese veg bamboo shoot black eye bean potato', 'Tarka Daal Nepalese veg yello lentilsgarlic cumin seed butter', 'Jeera Alu Nepalese veg boiled potatoes cumin seeds lemon juice', 'Nepali Chicken Curry Nepalese non-veg boneless chicken onion tomato coriender powdercumin powderbutterturmeric chilli powder garlicginger', 'Lamb Shashlik Indian non-veg minced lamb marinated with indian spices garlic ginger coriander yogurt turmeric cloves', 'Hyakula Nepalese non-veg lamb ribs cumin powderturmeric powdernepali spices mustard oil ', 'Alo Achar Nepalese veg boiled potatoes peas cucumber mustard oil turmeric powder cumin powder carrot salt', 'Chicken Momo Nepalese non-veg minced chicken meat coriender cumin powdergarlicgingeronionflour wrapping', 'Black-Bean Burgers Chinese veg cumin black bean cilantro lettucesour cream oregano buns', 'Parmesan Toasts Italian veg Bread garlic olive oil Parmesan cheese salt', 'Rice with Soy-Glazed Bonito Flakes and Sesame Seeds Japanese non-veg sake sesame seeds soy sauce rice japanese sauces', 'Shirazi Salad Healthy Food veg Spring onion cheese lemon juice cucumber onion carrot parsley cilantro', 'Sesame Noodles with Chili Oil and Scallions Chinese veg Noodles Saltgarlicchilli oil sesame oil chilli flakes scallions sichuan pepper vinegar soy sauce', 'Thai Green Curry  Thai veg cumin seeds coriander seeds chillies garlic ginger onion thai sauceslemon grass penut ', 'Ground Pork Menudo Spanish non-veg onion garlic olive oil minced pork fish sauce  green peas black peper', 'Bao Bun  Chinese non-veg sesame seed all purpose flour spring onion teriyaki sauce', 'Garlic Naan Indian veg garlic all purpose flour yougurt cumin seed', 'Egg Curry with Tomatoes and Cilantro Indian non-veg boiled egg cilantro garliccucumbertumeric powdertomatoes', 'Kimchi Bokumbab Korean non-veg Cabbage Kimchi Stir fried eggs rice seaweed sesame seeds spring onion', 'Korean fried Chicken Korean non-veg  korean sauce boneless chickensesame seeds', 'Prawn kastu Curry Japanese non-veg prawn rice japanes curry sauce bread crumbs rice', 'Beef Bibimbab Korean non-veg BeefCucumbercarrot mushroomsSpinichRice Gochujang Soy sauce', 'Sweet and Sour Chicken Fried Rice Chinese non-veg  Rice carrot peas chicken soy sauce sugar garlic capcicum', 'Sea Food Soup Chinese non-veg PrawnSquid fish ball fish cake mussels crab sticks', 'Pad Thai Thai non-veg noodles vegetable oil garlic eggs lime juice  brown sugar fish sauce gingerred pepper flakes onion cilantro penuts', 'Spicy Kimchi Tofu Stew Korean veg tofu kimchi gochujangblack pepper  sesame seeds soy sauce scallions', 'Slow-Roasted Pork  Korean non-veg fresh sagegarlic cloves bone-in pork shoulderground pepperDijon mustard', 'Pico de Gallo Verde Mexican veg avacado tomato cucumbercelery garlic mint lemon juice chillies onion cilantro', 'Pineapple-Coconut Rice Thai veg brown rice coconut milk onion carrot cashew pineapple vegetable oil ginger curry powder', 'Lamb and Green Squash Dumplings Chinese non-veg Squash zucchini scallions soya sauce ginger cooking wine vineger all purpose flour sichuan peppercornsground lamb', 'Crispy Tofu Balls Japanese veg  tofu scallions mushroomsSpicy aiolicorn white pepper vegetable oil', 'Grilled Chicken with Almond and Garlic Sauce Healthy Food non-veg lemon juice olive oil mushrooms lemon zest chicken breast roasted almonds garlic', 'Parmesan Cauliflower and Parsley Salad Italian veg olives parmesan cheese pasleypepperoil', 'Vietnamese Chicken Salad Vietnames non-veg roasted peanutsbasil leaves mint leaves chicken cucumbercarrot', 'Eggplant and Beef Stir-Fry Thai non-veg soya saucemintthai chilliesvermicelli noodlesbeef asaian eggplat', 'Stir-Fried Lettuces With Crispy Shallots Chinese non-veg sliced shallotspeppersaltgarlic ginger lettucebrown rice', 'Chicken and Dumplings Chinese non-veg purpose floureggnutmeg chicken broth carrotsaltchives pepper chicken thighs', 'Asian Salmon Bowl with Lime Drizzle Thai non-veg  jasmine rice garlic butter soy sauce salmon filletspinachblack sesame seeds', 'Pasta with Garlic-Scape Pesto Italian veg pistachios Parmigiano-Reggiano cheesesalt and black pepper spaghettiolive oil', 'Pico de Gallo Mexican veg oniontomatoes oil  cilantro jalapeao', 'Basmati Rice with Summer Vegetable Salad Indian veg basmati riceshallotradishesgreens sprouts tomatoes peas summer squashcarrot oilsalt', 'Fresh Corn Tortillas Mexican veg corn tortilla mixcornsalt', 'Quinoa Tabbouleh Healthy Food veg  quinoa olive oil tomato  cucumber parsley mint scallions thinly sliced', 'Grilled Clams With Herb Butter French non-veg  parsley pepper salt scallion lemon juice littleneck clams', 'Rajas Poblanas Mexican veg poblano pepper cream salt cream cheese', 'Braised Beef Short Ribs Korean non-veg Beef Scallion Raddish Spanich ', 'Fig and Sesame Tart with Cardamom Orange Cream Dessert non-veg  all-purpose floursugarsaltunsalted butter egg yolkheavy cream cinnamonorange zest figsesame seeds mild honey', 'Rouille French veg  bread crumbscayenne extra-virgin olive oilcoarse sea salt garlic', 'Kimchi Toast Korean veg  cream cheese chopped kimchi scallionscountry-style bread sesame seeds  cilantro leaves', 'Tacos de Gobernador Shrimp Poblano and Cheese Tacos Mexican non-veg poblano chiles bacon shrips red salsa garlic corn tortillas lime juice', 'Melted Broccoli Pasta With Capers and Anchovies French non-veg broccoliBread Crumbs  anchovy fillets garlic cloves  red pepper flakes penne pasta olive oil', 'Lemon-Ginger Cake with Pistachios Dessert non-veg egg yolkslemon juice unsalted butter all purpose flour sugar ginger milk', 'Rosemary Roasted Vegetables Healthy Food veg kosher salt rosemary garlic potato olive oil carrot walnut cheese ground pepper']\n"
     ]
    }
   ],
   "source": [
    "print(combinedFeatures)"
   ]
  },
  {
   "cell_type": "code",
   "execution_count": 12,
   "id": "dfb52d6c-76a0-40a4-a1d0-678931489807",
   "metadata": {},
   "outputs": [
    {
     "name": "stdout",
     "output_type": "stream",
     "text": [
      "baked namak para Snack veg whole wheat flour atta refined flour maida baking powder ghee salt carom seeds ajwain\n"
     ]
    }
   ],
   "source": [
    "print(combinedFeatures[21])"
   ]
  },
  {
   "cell_type": "code",
   "execution_count": 13,
   "id": "54e27dbc-b1b2-4a4a-bfab-cd78de1836d4",
   "metadata": {},
   "outputs": [],
   "source": [
    "vectorizer = TfidfVectorizer()"
   ]
  },
  {
   "cell_type": "code",
   "execution_count": 14,
   "id": "c574cc4b-3af1-49ee-b249-d634ddfed3ce",
   "metadata": {},
   "outputs": [],
   "source": [
    "featureVector = vectorizer.fit(combinedFeatures)"
   ]
  },
  {
   "cell_type": "code",
   "execution_count": 15,
   "id": "0a104a38-4368-4666-8d8d-91f46c561508",
   "metadata": {},
   "outputs": [],
   "source": [
    "featureVector = vectorizer.transform(combinedFeatures)"
   ]
  },
  {
   "cell_type": "code",
   "execution_count": 16,
   "id": "2b491899-f884-49cd-a60e-96bcd21fa58d",
   "metadata": {},
   "outputs": [
    {
     "name": "stdout",
     "output_type": "stream",
     "text": [
      "  (0, 1578)\t0.21672680423048934\n",
      "  (0, 1539)\t0.1408361887720984\n",
      "  (0, 1515)\t0.16207486675856958\n",
      "  (0, 1499)\t0.04293276598916954\n",
      "  (0, 1382)\t0.4623449760544007\n",
      "  (0, 1342)\t0.4623449760544007\n",
      "  (0, 1214)\t0.19358619359555165\n",
      "  (0, 1187)\t0.07258456070891654\n",
      "  (0, 1181)\t0.17165503662913478\n",
      "  (0, 1140)\t0.24075265789776557\n",
      "  (0, 1123)\t0.10708083372373974\n",
      "  (0, 1000)\t0.10298890407781497\n",
      "  (0, 915)\t0.1223938756260615\n",
      "  (0, 911)\t0.07804368410233642\n",
      "  (0, 755)\t0.24343551020326892\n",
      "  (0, 749)\t0.12377892367428522\n",
      "  (0, 680)\t0.13063228735979865\n",
      "  (0, 623)\t0.12521014840455036\n",
      "  (0, 551)\t0.08690227789527216\n",
      "  (0, 522)\t0.1223938756260615\n",
      "  (0, 387)\t0.16565466986295033\n",
      "  (0, 325)\t0.14189631093010202\n",
      "  (0, 293)\t0.14524341554617612\n",
      "  (0, 150)\t0.11787045726282579\n",
      "  (0, 107)\t0.18400602372498642\n",
      "  :\t:\n",
      "  (398, 680)\t0.19854257381119597\n",
      "  (398, 566)\t0.3091611787768989\n",
      "  (398, 518)\t0.16647738515209679\n",
      "  (398, 468)\t0.20242005439741867\n",
      "  (398, 426)\t0.19488263945689752\n",
      "  (398, 216)\t0.2546721886957135\n",
      "  (398, 206)\t0.170433246196074\n",
      "  (398, 27)\t0.26089134216975923\n",
      "  (399, 1521)\t0.32122351029293045\n",
      "  (399, 1502)\t0.3377027777085238\n",
      "  (399, 1499)\t0.05728291399998692\n",
      "  (399, 1187)\t0.0968457319955714\n",
      "  (399, 1164)\t0.5495421289148393\n",
      "  (399, 1149)\t0.2632760622669437\n",
      "  (399, 1063)\t0.2383397746284404\n",
      "  (399, 1000)\t0.13741263576473545\n",
      "  (399, 915)\t0.16330366073738248\n",
      "  (399, 911)\t0.10412955097754602\n",
      "  (399, 732)\t0.3084411974333469\n",
      "  (399, 623)\t0.16706126422865014\n",
      "  (399, 602)\t0.2140012271684883\n",
      "  (399, 551)\t0.11594910312402469\n",
      "  (399, 522)\t0.16330366073738248\n",
      "  (399, 266)\t0.18518198819561277\n",
      "  (399, 235)\t0.20580399384889403\n"
     ]
    }
   ],
   "source": [
    "print(featureVector)"
   ]
  },
  {
   "cell_type": "markdown",
   "id": "478f2a07-5f22-4988-8f11-8c2ad8782cb8",
   "metadata": {},
   "source": [
    "Generating similaity matrix score using Cosine Similarity"
   ]
  },
  {
   "cell_type": "code",
   "execution_count": 17,
   "id": "237b9c85-6cba-44b6-82e8-34162bd6f30d",
   "metadata": {},
   "outputs": [],
   "source": [
    "similarity = cosine_similarity(featureVector)"
   ]
  },
  {
   "cell_type": "code",
   "execution_count": 18,
   "id": "553a7111-a960-46a3-8b97-e2156d5f1fc0",
   "metadata": {},
   "outputs": [
    {
     "name": "stdout",
     "output_type": "stream",
     "text": [
      "[[1.         0.17949985 0.08158    ... 0.07411155 0.07377155 0.10273619]\n",
      " [0.17949985 1.         0.11949045 ... 0.10184851 0.06706992 0.15705625]\n",
      " [0.08158    0.11949045 1.         ... 0.02060648 0.07072647 0.01440608]\n",
      " ...\n",
      " [0.07411155 0.10184851 0.02060648 ... 1.         0.03865541 0.05588566]\n",
      " [0.07377155 0.06706992 0.07072647 ... 0.03865541 1.         0.00373781]\n",
      " [0.10273619 0.15705625 0.01440608 ... 0.05588566 0.00373781 1.        ]]\n"
     ]
    }
   ],
   "source": [
    "print(similarity)"
   ]
  },
  {
   "cell_type": "markdown",
   "id": "9a9a740c-d415-4336-ab71-2d8663a4945e",
   "metadata": {},
   "source": [
    "Generating a list with all movie titles of the Dataset"
   ]
  },
  {
   "cell_type": "code",
   "execution_count": 19,
   "id": "0c81885b-68b4-4220-bf34-5e17653ccff0",
   "metadata": {},
   "outputs": [],
   "source": [
    "Listallfood = fooData['Name'].tolist()"
   ]
  },
  {
   "cell_type": "code",
   "execution_count": 20,
   "id": "efd712dc-1582-4597-88fe-4822d9d63651",
   "metadata": {},
   "outputs": [
    {
     "name": "stdout",
     "output_type": "stream",
     "text": [
      "['summer squash salad', 'chicken minced salad', 'sweet chilli almonds', 'tricolour salad', 'christmas cake', 'japanese curry arancini with barley salsa', 'chocolate nero cookies', 'lamb and chargrilled bell pepper soup', 'cream of almond soup', 'broccoli and almond soup', 'coconut lime quinoa salad', 'lemon honey glazed sous vide corn on the cob', 'watermelon and strawberry smoothie', 'peach, raspberry and nuts smoothie', 'almond and cranberry poha', 'almond and raw banana galawat', 'baked namakpara with roasted almond dip', 'grilled almond barfi', 'baked shankarpali ', 'baked multigrain murukku', 'apple rabdi', 'baked namak para', 'dates and nuts ladoo', 'green lentil dessert fudge', 'cashew nut cookies', 'almond pearls', 'hawaiin papaya salad', 'vegetable som tam salad', 'spinach and feta crepes', 'couscous with ratatouille - tangy tomato sauce', 'baked almond kofta', 'almond and amaranth ladoo', 'moong dal kiwi coconut soup', 'mixed berry & banana smoothie', 'banana walnut smoothie', 'spicy watermelon soup', 'red rice poha', 'mixed salad with lotus root', 'sweet potato and quinoa bowl', 'corn and raw mango salad', 'khichdi', 'sugar free modak', 'beetroot modak', 'andhra pan fried pomfret', 'ghee roast chicken dosa quesadilla', 'steam bunny chicken bao', 'meat lovers pizza', 'almond and chicken momos (without shell)', 'christmas tree pizza', 'french pork chop', 'christmas chocolate fudge cookies', 'chicken parmigiana with tomato sauce', 'chocolate appe', 'sous-vide salmon tikka', 'filo pizza', 'chocolate samosa', 'fish with jamun sauce', 'dahi lasooni chicken', 'pesto fish kebabs', 'caramelized sesame smoked almonds', 'crunchy vegetable dal sattu croquettes', 'active charcoal modak', 'flax seed and beetroot modak', 'chocolate prunes gujiyas', 'almond  white chocolate gujiya', 'betel nut popsicle', 'clotted cottage cheese croquettes', 'gajar tart', 'banana and maple ice lollies', 'shepherds salad (tamatar-kheera salaad)', 'carrot ginger soup', 'dark night', 'hot chocolate', 'slow cooked spiced sangria', 'detox haldi tea', 'holi special ice tea thandai', 'grilled lemon margarita', 'spanish artichoke and spinach dip', 'beetroot and green apple soup', 'baba budan no. 7', 'fruit infused tea', 'soya milk', 'spiced coffee', 'filter coffee', 'garlic and pinenut soup with burnt butter essence', 'roast turkey with cranberry sauce', 'roasted spring chicken with root veggies', 'peri peri chicken satay', 'chicken popcorn', 'half roast chicken', 'chicken biryani', 'chicken farcha', 'buldak (hot and spicy chicken)', 'chicken sukka', 'steamed chicken roulade', 'methi chicken masala', 'restaurant style fried chicken', 'chicken potli', 'spicy chicken masala', 'spicy chicken curry', 'crispy herb chicken', 'dahi chicken', 'amritsari chicken masala', 'chilli chicken', 'chicken tenders', 'chicken nimbu dhaniya shorba', 'garlic soya chicken', 'cauliflower and chicken biryani', 'chicken quinoa biryani', 'chicken and mushroom lasagna', 'plum and cherry roasted chicken', 'chicken roulade', 'sticky rum chicken wings', 'chicken dragon', 'chicken palwal', 'pan seared thigh of chicken', 'chicken in mahalak sauce', 'grilled kasundi honey chicken with sweet potato mash', 'chicken dong style', 'microwave tandoori chicken', 'methi malai cranberry chicken', 'southern fried chicken tenders', 'thai style chicken tikka', 'chicken gilafi kebab', 'cheese chicken kebabs', 'andhra crab meat masala', 'cajun spiced turkey wrapped with bacon', 'thai lamb balls', 'oyster lamb', 'chicken shami kebab', 'balti meat', 'coffee marinated mutton chops', 'sali boti (parsi meat dish)', 'braised lamb shanks', 'bengali lamb curry', 'malabari fish curry', 'japanese fish stew', 'malabar fish curry', 'surmai curry with lobster butter rice', 'seared salmon in tabasco butter', 'risotto lobster with parmesan egg pancake, confit tomatoes and coral tuille', 'fish skewers with coriander and red wine vinegar dressing', 'seafood rock filler', 'shrimp & cilantro ceviche', 'saewoo bokumbop (shrimp fried rice)', 'thai prawn curry & baked rice ', 'bihari fish curry', 'curry fish fingers', 'prawn and litchi salad', 'kerala fish curry', 'fish andlouse', 'prawn fried rice', 'damdama fish curry', 'fish with white sauce', 'chilli fish', 'fish ambultiyal', 'chettinad fish fry', 'fish moilee', 'batter fish', 'fish salan', 'spanish fish fry', 'prawn potato soup', 'red rice vermicelli kheer', 'green cucumber shots', 'thai pineapple rice', 'green asparagus risotto', 'veg fried rice', 'egg and garlic fried rice', 'curd rice', 'fried rice with soya chunks', 'corn pulao', 'zucchini methi pulao', 'lemon rice', 'kale channe ki biryani', 'chicken paella', 'thai fish curry', 'vegetable pulao', 'oats shallots pulao', 'shiitake fried rice with water chestnuts', 'lotus leaf wrapped fried rice', 'vegetable biryani', 'avial with red rice', 'rice in lamb stock', 'vegetable bruschetta', 'red wine braised mushroom flatbread', 'strawberry & pistachio breton tart', 'tricolour pizza', 'instant rava dosa', 'easy bread poha', 'bread chana basket', 'spaghetti with clams & crispy bread crumbs', 'kasha bread', 'egg paratha', 'egg and cheddar cheese sandwich', 'egg in a blanket', 'bread dahi vada', 'cheese and avocado parantha', 'bread with tomatoes and olives', 'lemon poppy seed cake', 'chocolate kaju katli', 'mix fruit laccha rabri tortilla crunch', 'pista chocolate & mandarin', 'banana and chia tea cake', 'chocolate and almond rum ball ', 'lemon sushi cake', 'chocolate doughnut', 'spiced almond banana jaggery cake', 'fennel scented sweet banana fritters', 'camel milk cake tart', 'quinoa coconut crumble custard', 'lamb barley pot', 'al hachi chicken', 'berry parfait hazelnut white chocolate sable', 'badam papite ke kebab with pineapple salsa', 'mixed vegetable soup', 'duo of chocolate and strawberry', 'mustard-parmesan whole roasted cauliflower', 'hassel back sweet potatoes', 'mother christmas cake', 'matcha tea macarons', 'amaranthus granola with lemon yogurt, berries and marigold', 'chocolate fudge cookies', 'veg summer rolls', 'eggless vanilla cake', 'sweet potato pie', 'wok tossed asparagus in mild garlic sauce', 'cinnamon oatmeal pancakes', 'chocolate chip cheesecake', 'chocolate lava cake', 'eggless coffee cupcakes', 'chicken in white wine', 'apple and walnut cake', 'gluten free almond cake', 'cinnamon star cookies', 'whole wheat cake', 'plum cake', 'double chocolate easter cookies', 'holi special malai kofta', 'homemade gulab jamun', 'lamb rogan josh', 'fish curry', 'rice kheer', 'assorted rice kheer sushi', 'jalebi with fennel yogurt pudding', 'broccoli souffle', 'christmas dry fruit cake', 'microwave chicken steak', 'cheese and ham roll', 'vegetable manchurian', 'jerk chicken', 'lemon poppy seed cake ', 'steam bunny chicken bao ', 'double chocolate easter cookies ', 'orange quinoa sevaiyan', 'spicy creamy kadai chicken', 'apple kheer', 'ragi oats ladoo (laddu)', 'lamb korma', 'ragi coconut ladoo (laddu)', 'quick chicken curry', 'chicken shaami kebab', 'chicken masala', 'holi special bhang pakode', 'kuttu atta pizza', 'arbi kofta with mint yogurt dip', 'puffed rice squares', 'red velvet banana pudding', 'baked wild berry cheesecake', 'spiced orange valencia cake', 'jalapeno cheese fingers', 'californian breakfast benedict', 'chocolate marquise', 'corn & jalapeno poppers', 'banana phirni tartlets with fresh strawberries', 'mexican pizza', 'apple and pear cake', 'microwave chocolate cake', 'white chocolate and lemon pastry', 'mixed beans salad', 'baked raw banana samosa', 'coconut mango oatmeal with cinnamon hint', 'fruit cube salad', 'veg hakka noodles', 'strawberry quinoa pancakes', 'spinach & banana pancakes', 'french onion grilled cheese', 'pasta in cheese sauce', 'deviled scotch egg', 'amritsari fish', 'butter chicken', 'chicken razala', 'chicken tikka', 'chicken tikka masala', 'mushroom matar', 'tandoori chicken', 'tandoori fish tikka', 'chettinadu chicken', 'chicken 65', 'kolim / jawla', 'black rice', 'brown rice', 'koldil chicken', 'red rice', 'rice', 'sunga pork', 'banana chips', 'bhurji- egg', 'flattened rice / poha', 'puffed rice', 'Miso-Butter Roast Chicken With Acorn Squash Panzanella', 'Honeydew Salad with Ginger Dressing and Peanuts', 'Kimchi and Miso Noodle Soup', 'Spicy Korean Steak', 'French Spiced Bread', 'Quinoa Bowl and Berries', 'Shawarma-Spiced Braised Leg of Lamb', 'Roast Pork Tenderloin with Carrot Romesco', 'Ricotta Gnocchi with Asparagus, Peas, and Morels', 'Crispy Pakora', 'Lamb Tikka', 'Grilled Sweet Prawn', 'Pho Tai rare beef', 'Summer Rolls', 'Spice Chicken Baugette', 'Bean Curd Rolls', 'Pho Chay Soup', 'Pho Ga Chicken', 'Chicken Sweet Corn Soup', 'Thai Spareribs', 'Frenched Green Beans', 'Lemony Crab Salad with Baby Greens', 'Mushroom Manchruian', 'Biryani', 'Tandoori Chicken', 'Shrimp Olivier', 'Potato Casserole', 'Thyme-Roasted Sweet Potatoes', 'Noodle Curry', 'Grill Lemon grass Pork baguette', 'Sukuti Chatpate', 'Cheese Naan', 'Mushroom Rice', 'Bringle Alo', 'Mutar Paneer', 'Cucumber and Radish Salad', 'Channa Masala', 'Saag Alo ', 'Alo Tama Bodi', 'Tarka Daal', 'Jeera Alu', 'Nepali Chicken Curry', 'Lamb Shashlik', 'Hyakula', 'Alo Achar', 'Chicken Momo', 'Black-Bean Burgers', 'Parmesan Toasts', 'Rice with Soy-Glazed Bonito Flakes and Sesame Seeds', 'Shirazi Salad', 'Sesame Noodles with Chili Oil and Scallions', 'Thai Green Curry ', 'Ground Pork Menudo', 'Bao Bun ', 'Garlic Naan', 'Egg Curry with Tomatoes and Cilantro', 'Kimchi Bokumbab', 'Korean fried Chicken', 'Prawn kastu Curry', 'Beef Bibimbab', 'Sweet and Sour Chicken Fried Rice', 'Sea Food Soup', 'Pad Thai', 'Spicy Kimchi Tofu Stew', 'Slow-Roasted Pork ', 'Pico de Gallo Verde', 'Pineapple-Coconut Rice', 'Lamb and Green Squash Dumplings', 'Crispy Tofu Balls', 'Grilled Chicken with Almond and Garlic Sauce', 'Parmesan Cauliflower and Parsley Salad', 'Vietnamese Chicken Salad', 'Eggplant and Beef Stir-Fry', 'Stir-Fried Lettuces With Crispy Shallots', 'Chicken and Dumplings', 'Asian Salmon Bowl with Lime Drizzle', 'Pasta with Garlic-Scape Pesto', 'Pico de Gallo', 'Basmati Rice with Summer Vegetable Salad', 'Fresh Corn Tortillas', 'Quinoa Tabbouleh', 'Grilled Clams With Herb Butter', 'Rajas Poblanas', 'Braised Beef Short Ribs', 'Fig and Sesame Tart with Cardamom Orange Cream', 'Rouille', 'Kimchi Toast', 'Tacos de Gobernador (Shrimp, Poblano, and Cheese Tacos)', 'Melted Broccoli Pasta With Capers and Anchovies', 'Lemon-Ginger Cake with Pistachios', 'Rosemary Roasted Vegetables']\n"
     ]
    }
   ],
   "source": [
    "print(Listallfood)"
   ]
  },
  {
   "cell_type": "code",
   "execution_count": 21,
   "id": "b6a2ab40-0416-42dc-a2f5-6f7857b549b7",
   "metadata": {},
   "outputs": [],
   "source": [
    "#for testing let us take ip = 'Chana Masala'"
   ]
  },
  {
   "cell_type": "code",
   "execution_count": 22,
   "id": "c517d389-84d4-45f3-beb0-abbf5a31e4dc",
   "metadata": {},
   "outputs": [],
   "source": [
    "ip = 'Chana masala'"
   ]
  },
  {
   "cell_type": "code",
   "execution_count": 23,
   "id": "0cac6ed9-9f73-4542-a30e-47a1a1c3cc84",
   "metadata": {},
   "outputs": [],
   "source": [
    "#finding the closest match form the Listallfood to the ip"
   ]
  },
  {
   "cell_type": "code",
   "execution_count": 24,
   "id": "b1d21106-2cbe-400b-84bc-25f9614d0434",
   "metadata": {},
   "outputs": [],
   "source": [
    "FindCloseMatch = difflib.get_close_matches(ip,Listallfood)"
   ]
  },
  {
   "cell_type": "code",
   "execution_count": 25,
   "id": "de8a2567-f913-4e97-8e6f-2de908e5b924",
   "metadata": {},
   "outputs": [
    {
     "name": "stdout",
     "output_type": "stream",
     "text": [
      "['Channa Masala', 'chicken masala', 'chicken tikka masala']\n"
     ]
    }
   ],
   "source": [
    "print(FindCloseMatch)"
   ]
  },
  {
   "cell_type": "code",
   "execution_count": 26,
   "id": "38b3978a-9319-4d2c-9736-ac7d6f7e9db0",
   "metadata": {},
   "outputs": [],
   "source": [
    "CloseMatch  = FindCloseMatch[0]"
   ]
  },
  {
   "cell_type": "code",
   "execution_count": 27,
   "id": "01999472-4fa7-4522-97f6-15b84425fb7c",
   "metadata": {},
   "outputs": [
    {
     "name": "stdout",
     "output_type": "stream",
     "text": [
      "Channa Masala\n"
     ]
    }
   ],
   "source": [
    "print(CloseMatch)"
   ]
  },
  {
   "cell_type": "markdown",
   "id": "ed2c28a5-dd97-4766-a7cd-97a32fca39e3",
   "metadata": {},
   "source": [
    "finding the index of the movie based on the Name(closeMatch)"
   ]
  },
  {
   "cell_type": "code",
   "execution_count": 28,
   "id": "bdd09205-50e2-4e42-a3f8-e7125f55740b",
   "metadata": {},
   "outputs": [
    {
     "name": "stdout",
     "output_type": "stream",
     "text": [
      "346\n"
     ]
    }
   ],
   "source": [
    "index_of_food = fooData[fooData['Name']==CloseMatch]['Food_ID'].values[0]\n",
    "print(index_of_food)"
   ]
  },
  {
   "cell_type": "code",
   "execution_count": 29,
   "id": "fe7a9a0f-1eab-477c-b1df-d016362b2c79",
   "metadata": {},
   "outputs": [],
   "source": [
    "similarity_score = list(enumerate(similarity[index_of_food]))"
   ]
  },
  {
   "cell_type": "code",
   "execution_count": 30,
   "id": "d5620ff9-3897-4d66-b810-b395c2f5cc57",
   "metadata": {},
   "outputs": [
    {
     "name": "stdout",
     "output_type": "stream",
     "text": [
      "[(0, 0.002816931921880873), (1, 0.01940869643901162), (2, 0.02132799805926147), (3, 0.0033903576031541907), (4, 0.002945042764516455), (5, 0.0016516915123987624), (6, 0.01675639638004699), (7, 0.04273141103761931), (8, 0.003045288986870264), (9, 0.003451610300344507), (10, 0.01295503523289712), (11, 0.010357815084169518), (12, 0.0035066390111293264), (13, 0.002150847565656335), (14, 0.0211299450302884), (15, 0.04162377237359684), (16, 0.0032744728126945545), (17, 0.004586046412967321), (18, 0.06492293732077659), (19, 0.03598440831941162), (20, 0.003677872633570852), (21, 0.017935368332199903), (22, 0.003039280952015209), (23, 0.003216481831710182), (24, 0.01252201727692799), (25, 0.10714988634679906), (26, 0.002575881942099015), (27, 0.0028584570956787024), (28, 0.10794423492976901), (29, 0.01601054618847555), (30, 0.05074333100628678), (31, 0.0034143316521750857), (32, 0.08160018775344657), (33, 0.0032790394193139383), (34, 0.0034659043526665927), (35, 0.0036050060110499006), (36, 0.01977198982868296), (37, 0.002240540147200645), (38, 0.14002991942496817), (39, 0.010643998202310602), (40, 0.11609765932890972), (41, 0.003659905194097928), (42, 0.011193716274863501), (43, 0.09860433865762619), (44, 0.06783951957286675), (45, 0.014129838653223457), (46, 0.023445050464695416), (47, 0.03200361562139604), (48, 0.017285880845965468), (49, 0.01311614243185767), (50, 0.03114222151426711), (51, 0.046740031865544485), (52, 0.046391403971718606), (53, 0.0025865185642555528), (54, 0.002165391775453511), (55, 0.017525049612319703), (56, 0.08878540122221953), (57, 0.0028512292170589193), (58, 0.0022954833125848374), (59, 0.04762966470229959), (60, 0.044042377602566414), (61, 0.011479157483179863), (62, 0.07435556314504067), (63, 0.0026246094396749197), (64, 0.016706748754487966), (65, 0.00297729638848603), (66, 0.011782167716600497), (67, 0.017790841511272512), (68, 0.003184632835047814), (69, 0.0211239233288742), (70, 0.026991830937023592), (71, 0.004215456543826215), (72, 0.024012043766968038), (73, 0.0027531074979721677), (74, 0.004005235868729257), (75, 0.009908415437344638), (76, 0.003333330338660627), (77, 0.13462152218635381), (78, 0.01709353209330722), (79, 0.0032710797811971236), (80, 0.00324610825054465), (81, 0.005983186027018367), (82, 0.02103237185997912), (83, 0.023798046301227335), (84, 0.0029202080855848145), (85, 0.018029536610035465), (86, 0.014920896223743495), (87, 0.04577962168224968), (88, 0.040063081923664166), (89, 0.0016016431169203367), (90, 0.0636607155855886), (91, 0.039114303755973225), (92, 0.018127694612776992), (93, 0.10269323016798412), (94, 0.0513675845018966), (95, 0.049607983341847184), (96, 0.05730309188687618), (97, 0.05750748065442467), (98, 0.07803711681363007), (99, 0.13250773259323056), (100, 0.018083766912339785), (101, 0.1361806276796048), (102, 0.1382441354502187), (103, 0.02171591728993636), (104, 0.014895053830842147), (105, 0.05412012817129327), (106, 0.011899047535992845), (107, 0.060030752502755164), (108, 0.07248285599789783), (109, 0.01956275523959448), (110, 0.021160285308315922), (111, 0.0029118586779719987), (112, 0.022554119799075942), (113, 0.0035988257434493767), (114, 0.11503764354269924), (115, 0.003303695116611655), (116, 0.021265869515430618), (117, 0.09974969772034219), (118, 0.061274479657521655), (119, 0.04722399581488456), (120, 0.057667251122285046), (121, 0.002417630353213699), (122, 0.013314742262039004), (123, 0.07572092346058244), (124, 0.057405882381568754), (125, 0.1099699440464876), (126, 0.05996479401745945), (127, 0.014870707121451398), (128, 0.0032102979384733697), (129, 0.032241701211919084), (130, 0.07878720998578766), (131, 0.0028786818876709477), (132, 0.050455092493340584), (133, 0.01753466089882535), (134, 0.08272476175379372), (135, 0.05350015214971996), (136, 0.001739181136135416), (137, 0.018275166189180146), (138, 0.08739445575443547), (139, 0.0030274927784401007), (140, 0.010300426756987323), (141, 0.0024836593727757855), (142, 0.0018889540303510105), (143, 0.027403738310896805), (144, 0.03236481482086913), (145, 0.03324988879354015), (146, 0.07766394163671843), (147, 0.0031808605356959704), (148, 0.002794600248009615), (149, 0.06472758924568736), (150, 0.02399381219891029), (151, 0.020530632622513468), (152, 0.14399901402258652), (153, 0.004853488825223142), (154, 0.02685297680507686), (155, 0.04675555273934302), (156, 0.07979578956204261), (157, 0.07245920599734744), (158, 0.015093779382190446), (159, 0.13540838205981945), (160, 0.023427405264311214), (161, 0.18985101037230281), (162, 0.012866025537646607), (163, 0.003316954453116507), (164, 0.0880218981871411), (165, 0.02341363163326188), (166, 0.0344710997845413), (167, 0.044382822222378826), (168, 0.003117195947616579), (169, 0.0028061552286242145), (170, 0.09464859019416058), (171, 0.0252766492788859), (172, 0.026693797103732854), (173, 0.046744833149141754), (174, 0.016919146845826353), (175, 0.003057185373356916), (176, 0.0835416283073313), (177, 0.04201730325156125), (178, 0.0022364709087611787), (179, 0.01992818821731967), (180, 0.13515327415634384), (181, 0.045206684865525676), (182, 0.05877702748494168), (183, 0.0023622797895873704), (184, 0.0025748676455987886), (185, 0.012935375308288007), (186, 0.0032032204775141538), (187, 0.01865351252999382), (188, 0.04522031690162044), (189, 0.08468030925902065), (190, 0.001759182655792165), (191, 0.012907012130502094), (192, 0.0048237461848163925), (193, 0.004322910414117126), (194, 0.00463392997089606), (195, 0.04346803556712557), (196, 0.0031400856757256256), (197, 0.0034530949093555326), (198, 0.11171937028418874), (199, 0.0038685147171733316), (200, 0.01320382385248076), (201, 0.0028247149823361867), (202, 0.0032035926803065007), (203, 0.013436180877145815), (204, 0.0035994040810101036), (205, 0.004929828066616135), (206, 0.024847827068376575), (207, 0.0036409690004670023), (208, 0.0035806491780405836), (209, 0.02307544706921284), (210, 0.002197878032965283), (211, 0.11704009398099394), (212, 0.001190219409863722), (213, 0.0795247538547822), (214, 0.0593897621250824), (215, 0.003941951265784574), (216, 0.002906829034106307), (217, 0.00300196064553759), (218, 0.0019834224043995814), (219, 0.0277011172906747), (220, 0.010834303386678653), (221, 0.03464368417612831), (222, 0.004646069996918229), (223, 0.022249099312369843), (224, 0.07255268598274812), (225, 0.04524320726804299), (226, 0.013535803017704642), (227, 0.0027534408231669185), (228, 0.004213176484101042), (229, 0.018185984544716722), (230, 0.0018929624666428296), (231, 0.03377710089827257), (232, 0.017260103395412306), (233, 0.01684265795683405), (234, 0.01837161071386535), (235, 0.0028935512398253513), (236, 0.016033946366163638), (237, 0.023149443468658562), (238, 0.01812434650986506), (239, 0.05874522900449024), (240, 0.05218077881072696), (241, 0.0044231359981531816), (242, 0.0029124712006146714), (243, 0.014675563612570603), (244, 0.0028618483915434745), (245, 0.009369181425541375), (246, 0.01693198691172102), (247, 0.0028693972180528163), (248, 0.0024744671084506262), (249, 0.011661394652595454), (250, 0.06903185837278206), (251, 0.014834192060193568), (252, 0.016033946366163638), (253, 0.0027162524949877805), (254, 0.08602772493963712), (255, 0.002803275168063132), (256, 0.026018869467411318), (257, 0.14198734532362986), (258, 0.0034117442346351286), (259, 0.15325563977250034), (260, 0.030175301879809137), (261, 0.10357358044028633), (262, 0.1493858669216282), (263, 0.0027904796853392686), (264, 0.00240682809717617), (265, 0.017198454550588094), (266, 0.0013502847910193854), (267, 0.0031589620395079785), (268, 0.04125771326143742), (269, 0.00248204306444265), (270, 0.07642746291695401), (271, 0.014918565202607878), (272, 0.00234588591520481), (273, 0.011740896250864994), (274, 0.03744333606523736), (275, 0.011047617835070614), (276, 0.030445278477540142), (277, 0.002868125641294099), (278, 0.002553269875174281), (279, 0.0342378311905214), (280, 0.013958992127726265), (281, 0.003401913357645458), (282, 0.024340292010767525), (283, 0.015204489770649155), (284, 0.18409532880780058), (285, 0.04948560305719488), (286, 0.017667117608603674), (287, 0.012394102519700858), (288, 0.005687610073485955), (289, 0.0064396780575770975), (290, 0.004453618259979064), (291, 0.0053756797687753025), (292, 0.004427738964226307), (293, 0.00455999598545119), (294, 0.003054707689629519), (295, 0.003636593958396825), (296, 0.1294968218590623), (297, 0.029963437475163255), (298, 0.059412862117939766), (299, 0.0064445556414453676), (300, 0.0061855856200938725), (301, 0.004070737407566805), (302, 0.006485884474700729), (303, 0.008590465608337016), (304, 0.0068025263144797935), (305, 0.030025950485998504), (306, 0.09449920317319355), (307, 0.0014127696100504688), (308, 0.0009232903385080465), (309, 0.0031470089617818813), (310, 0.003088088825510346), (311, 0.00351890149261308), (312, 0.0031905873187725907), (313, 0.0034883023302450153), (314, 0.00394274192372034), (315, 0.17106400474414654), (316, 0.0028627618213838495), (317, 0.0030656422040610367), (318, 0.03565968538034976), (319, 0.1304002693563867), (320, 0.003965456602308961), (321, 0.0033141625581344474), (322, 0.004331358148850479), (323, 0.0036170574495885135), (324, 0.0036483210418192147), (325, 0.003966236003417259), (326, 0.0037607622465797223), (327, 0.004040939434064585), (328, 0.003324249511489198), (329, 0.004319455426996827), (330, 0.003170932702255325), (331, 0.07188968776331173), (332, 0.13790986254726806), (333, 0.1334590637920629), (334, 0.02495073988143807), (335, 0.1154811690892485), (336, 0.003580130307027415), (337, 0.00447170650744811), (338, 0.003060008067638007), (339, 0.10118536468724385), (340, 0.004960312619130261), (341, 0.16358311792074562), (342, 0.3891096217529986), (343, 0.09159548646712017), (344, 0.004459549455000066), (345, 0.13061786559091296), (346, 1.0000000000000002), (347, 0.26066267735168847), (348, 0.2279902901191554), (349, 0.15892707114654459), (350, 0.2514654693613716), (351, 0.11858811837004007), (352, 0.21044465432181983), (353, 0.3319026693638647), (354, 0.12650003511068536), (355, 0.039512644436582235), (356, 0.004766312855327775), (357, 0.00311935786927334), (358, 0.05492286266334118), (359, 0.0030102031489994533), (360, 0.058175167293548304), (361, 0.023815823296921192), (362, 0.1163801285314303), (363, 0.1621285477868697), (364, 0.004081736192655887), (365, 0.022667164190505133), (366, 0.003901941096539258), (367, 0.0037218328473824017), (368, 0.004273269226204966), (369, 0.004161508119595455), (370, 0.003774401920751424), (371, 0.02298585375221006), (372, 0.0031754183971931748), (373, 0.0033165331936684432), (374, 0.02475309473920595), (375, 0.04084988358328047), (376, 0.0028988846552814224), (377, 0.003617169114191186), (378, 0.003894413351183548), (379, 0.004117083229784459), (380, 0.004082162189793222), (381, 0.0033992076935710817), (382, 0.00387654264202083), (383, 0.0038727010426860427), (384, 0.0032603387646440818), (385, 0.0036008319617239857), (386, 0.0045591678751309445), (387, 0.0031638410863570918), (388, 0.004662952103684104), (389, 0.003715769307518379), (390, 0.0036076874610006986), (391, 0.004772791130785456), (392, 0.00351815818387442), (393, 0.0030238576081471073), (394, 0.004376121474408822), (395, 0.003485273498292552), (396, 0.002563887795264503), (397, 0.002872657407597954), (398, 0.004281337526309463), (399, 0.0688246806134732)]\n"
     ]
    }
   ],
   "source": [
    "print(similarity_score)"
   ]
  },
  {
   "cell_type": "code",
   "execution_count": 31,
   "id": "2649d470-71e8-46a8-83e5-5327c4a5699d",
   "metadata": {},
   "outputs": [],
   "source": [
    "sorted_similar_food = sorted(similarity_score,key =lambda x:x[1], reverse=True)"
   ]
  },
  {
   "cell_type": "code",
   "execution_count": 32,
   "id": "d75241a5-9a92-43fe-91bb-d8761c3bba9a",
   "metadata": {
    "scrolled": true
   },
   "outputs": [
    {
     "name": "stdout",
     "output_type": "stream",
     "text": [
      "[(346, 1.0000000000000002), (342, 0.3891096217529986), (353, 0.3319026693638647), (347, 0.26066267735168847), (350, 0.2514654693613716), (348, 0.2279902901191554), (352, 0.21044465432181983), (161, 0.18985101037230281), (284, 0.18409532880780058), (315, 0.17106400474414654), (341, 0.16358311792074562), (363, 0.1621285477868697), (349, 0.15892707114654459), (259, 0.15325563977250034), (262, 0.1493858669216282), (152, 0.14399901402258652), (257, 0.14198734532362986), (38, 0.14002991942496817), (102, 0.1382441354502187), (332, 0.13790986254726806), (101, 0.1361806276796048), (159, 0.13540838205981945), (180, 0.13515327415634384), (77, 0.13462152218635381), (333, 0.1334590637920629), (99, 0.13250773259323056), (345, 0.13061786559091296), (319, 0.1304002693563867), (296, 0.1294968218590623), (354, 0.12650003511068536), (351, 0.11858811837004007), (211, 0.11704009398099394), (362, 0.1163801285314303), (40, 0.11609765932890972), (335, 0.1154811690892485), (114, 0.11503764354269924), (198, 0.11171937028418874), (125, 0.1099699440464876), (28, 0.10794423492976901), (25, 0.10714988634679906), (261, 0.10357358044028633), (93, 0.10269323016798412), (339, 0.10118536468724385), (117, 0.09974969772034219), (43, 0.09860433865762619), (170, 0.09464859019416058), (306, 0.09449920317319355), (343, 0.09159548646712017), (56, 0.08878540122221953), (164, 0.0880218981871411), (138, 0.08739445575443547), (254, 0.08602772493963712), (189, 0.08468030925902065), (176, 0.0835416283073313), (134, 0.08272476175379372), (32, 0.08160018775344657), (156, 0.07979578956204261), (213, 0.0795247538547822), (130, 0.07878720998578766), (98, 0.07803711681363007), (146, 0.07766394163671843), (270, 0.07642746291695401), (123, 0.07572092346058244), (62, 0.07435556314504067), (224, 0.07255268598274812), (108, 0.07248285599789783), (157, 0.07245920599734744), (331, 0.07188968776331173), (250, 0.06903185837278206), (399, 0.0688246806134732), (44, 0.06783951957286675), (18, 0.06492293732077659), (149, 0.06472758924568736), (90, 0.0636607155855886), (118, 0.061274479657521655), (107, 0.060030752502755164), (126, 0.05996479401745945), (298, 0.059412862117939766), (214, 0.0593897621250824), (182, 0.05877702748494168), (239, 0.05874522900449024), (360, 0.058175167293548304), (120, 0.057667251122285046), (97, 0.05750748065442467), (124, 0.057405882381568754), (96, 0.05730309188687618), (358, 0.05492286266334118), (105, 0.05412012817129327), (135, 0.05350015214971996), (240, 0.05218077881072696), (94, 0.0513675845018966), (30, 0.05074333100628678), (132, 0.050455092493340584), (95, 0.049607983341847184), (285, 0.04948560305719488), (59, 0.04762966470229959), (119, 0.04722399581488456), (155, 0.04675555273934302), (173, 0.046744833149141754), (51, 0.046740031865544485), (52, 0.046391403971718606), (87, 0.04577962168224968), (225, 0.04524320726804299), (188, 0.04522031690162044), (181, 0.045206684865525676), (167, 0.044382822222378826), (60, 0.044042377602566414), (195, 0.04346803556712557), (7, 0.04273141103761931), (177, 0.04201730325156125), (15, 0.04162377237359684), (268, 0.04125771326143742), (375, 0.04084988358328047), (88, 0.040063081923664166), (355, 0.039512644436582235), (91, 0.039114303755973225), (274, 0.03744333606523736), (19, 0.03598440831941162), (318, 0.03565968538034976), (221, 0.03464368417612831), (166, 0.0344710997845413), (279, 0.0342378311905214), (231, 0.03377710089827257), (145, 0.03324988879354015), (144, 0.03236481482086913), (129, 0.032241701211919084), (47, 0.03200361562139604), (50, 0.03114222151426711), (276, 0.030445278477540142), (260, 0.030175301879809137), (305, 0.030025950485998504), (297, 0.029963437475163255), (219, 0.0277011172906747), (143, 0.027403738310896805), (70, 0.026991830937023592), (154, 0.02685297680507686), (172, 0.026693797103732854), (256, 0.026018869467411318), (171, 0.0252766492788859), (334, 0.02495073988143807), (206, 0.024847827068376575), (374, 0.02475309473920595), (282, 0.024340292010767525), (72, 0.024012043766968038), (150, 0.02399381219891029), (361, 0.023815823296921192), (83, 0.023798046301227335), (46, 0.023445050464695416), (160, 0.023427405264311214), (165, 0.02341363163326188), (237, 0.023149443468658562), (209, 0.02307544706921284), (371, 0.02298585375221006), (365, 0.022667164190505133), (112, 0.022554119799075942), (223, 0.022249099312369843), (103, 0.02171591728993636), (2, 0.02132799805926147), (116, 0.021265869515430618), (110, 0.021160285308315922), (14, 0.0211299450302884), (69, 0.0211239233288742), (82, 0.02103237185997912), (151, 0.020530632622513468), (179, 0.01992818821731967), (36, 0.01977198982868296), (109, 0.01956275523959448), (1, 0.01940869643901162), (187, 0.01865351252999382), (234, 0.01837161071386535), (137, 0.018275166189180146), (229, 0.018185984544716722), (92, 0.018127694612776992), (238, 0.01812434650986506), (100, 0.018083766912339785), (85, 0.018029536610035465), (21, 0.017935368332199903), (67, 0.017790841511272512), (286, 0.017667117608603674), (133, 0.01753466089882535), (55, 0.017525049612319703), (48, 0.017285880845965468), (232, 0.017260103395412306), (265, 0.017198454550588094), (78, 0.01709353209330722), (246, 0.01693198691172102), (174, 0.016919146845826353), (233, 0.01684265795683405), (6, 0.01675639638004699), (64, 0.016706748754487966), (236, 0.016033946366163638), (252, 0.016033946366163638), (29, 0.01601054618847555), (283, 0.015204489770649155), (158, 0.015093779382190446), (86, 0.014920896223743495), (271, 0.014918565202607878), (104, 0.014895053830842147), (127, 0.014870707121451398), (251, 0.014834192060193568), (243, 0.014675563612570603), (45, 0.014129838653223457), (280, 0.013958992127726265), (226, 0.013535803017704642), (203, 0.013436180877145815), (122, 0.013314742262039004), (200, 0.01320382385248076), (49, 0.01311614243185767), (10, 0.01295503523289712), (185, 0.012935375308288007), (191, 0.012907012130502094), (162, 0.012866025537646607), (24, 0.01252201727692799), (287, 0.012394102519700858), (106, 0.011899047535992845), (66, 0.011782167716600497), (273, 0.011740896250864994), (249, 0.011661394652595454), (61, 0.011479157483179863), (42, 0.011193716274863501), (275, 0.011047617835070614), (220, 0.010834303386678653), (39, 0.010643998202310602), (11, 0.010357815084169518), (140, 0.010300426756987323), (75, 0.009908415437344638), (245, 0.009369181425541375), (303, 0.008590465608337016), (304, 0.0068025263144797935), (302, 0.006485884474700729), (299, 0.0064445556414453676), (289, 0.0064396780575770975), (300, 0.0061855856200938725), (81, 0.005983186027018367), (288, 0.005687610073485955), (291, 0.0053756797687753025), (340, 0.004960312619130261), (205, 0.004929828066616135), (153, 0.004853488825223142), (192, 0.0048237461848163925), (391, 0.004772791130785456), (356, 0.004766312855327775), (388, 0.004662952103684104), (222, 0.004646069996918229), (194, 0.00463392997089606), (17, 0.004586046412967321), (293, 0.00455999598545119), (386, 0.0045591678751309445), (337, 0.00447170650744811), (344, 0.004459549455000066), (290, 0.004453618259979064), (292, 0.004427738964226307), (241, 0.0044231359981531816), (394, 0.004376121474408822), (322, 0.004331358148850479), (193, 0.004322910414117126), (329, 0.004319455426996827), (398, 0.004281337526309463), (368, 0.004273269226204966), (71, 0.004215456543826215), (228, 0.004213176484101042), (369, 0.004161508119595455), (379, 0.004117083229784459), (380, 0.004082162189793222), (364, 0.004081736192655887), (301, 0.004070737407566805), (327, 0.004040939434064585), (74, 0.004005235868729257), (325, 0.003966236003417259), (320, 0.003965456602308961), (314, 0.00394274192372034), (215, 0.003941951265784574), (366, 0.003901941096539258), (378, 0.003894413351183548), (382, 0.00387654264202083), (383, 0.0038727010426860427), (199, 0.0038685147171733316), (370, 0.003774401920751424), (326, 0.0037607622465797223), (367, 0.0037218328473824017), (389, 0.003715769307518379), (20, 0.003677872633570852), (41, 0.003659905194097928), (324, 0.0036483210418192147), (207, 0.0036409690004670023), (295, 0.003636593958396825), (377, 0.003617169114191186), (323, 0.0036170574495885135), (390, 0.0036076874610006986), (35, 0.0036050060110499006), (385, 0.0036008319617239857), (204, 0.0035994040810101036), (113, 0.0035988257434493767), (208, 0.0035806491780405836), (336, 0.003580130307027415), (311, 0.00351890149261308), (392, 0.00351815818387442), (12, 0.0035066390111293264), (313, 0.0034883023302450153), (395, 0.003485273498292552), (34, 0.0034659043526665927), (197, 0.0034530949093555326), (9, 0.003451610300344507), (31, 0.0034143316521750857), (258, 0.0034117442346351286), (281, 0.003401913357645458), (381, 0.0033992076935710817), (3, 0.0033903576031541907), (76, 0.003333330338660627), (328, 0.003324249511489198), (163, 0.003316954453116507), (373, 0.0033165331936684432), (321, 0.0033141625581344474), (115, 0.003303695116611655), (33, 0.0032790394193139383), (16, 0.0032744728126945545), (79, 0.0032710797811971236), (384, 0.0032603387646440818), (80, 0.00324610825054465), (23, 0.003216481831710182), (128, 0.0032102979384733697), (202, 0.0032035926803065007), (186, 0.0032032204775141538), (312, 0.0031905873187725907), (68, 0.003184632835047814), (147, 0.0031808605356959704), (372, 0.0031754183971931748), (330, 0.003170932702255325), (387, 0.0031638410863570918), (267, 0.0031589620395079785), (309, 0.0031470089617818813), (196, 0.0031400856757256256), (357, 0.00311935786927334), (168, 0.003117195947616579), (310, 0.003088088825510346), (317, 0.0030656422040610367), (338, 0.003060008067638007), (175, 0.003057185373356916), (294, 0.003054707689629519), (8, 0.003045288986870264), (22, 0.003039280952015209), (139, 0.0030274927784401007), (393, 0.0030238576081471073), (359, 0.0030102031489994533), (217, 0.00300196064553759), (65, 0.00297729638848603), (4, 0.002945042764516455), (84, 0.0029202080855848145), (242, 0.0029124712006146714), (111, 0.0029118586779719987), (216, 0.002906829034106307), (376, 0.0028988846552814224), (235, 0.0028935512398253513), (131, 0.0028786818876709477), (397, 0.002872657407597954), (247, 0.0028693972180528163), (277, 0.002868125641294099), (316, 0.0028627618213838495), (244, 0.0028618483915434745), (27, 0.0028584570956787024), (57, 0.0028512292170589193), (201, 0.0028247149823361867), (0, 0.002816931921880873), (169, 0.0028061552286242145), (255, 0.002803275168063132), (148, 0.002794600248009615), (263, 0.0027904796853392686), (227, 0.0027534408231669185), (73, 0.0027531074979721677), (253, 0.0027162524949877805), (63, 0.0026246094396749197), (53, 0.0025865185642555528), (26, 0.002575881942099015), (184, 0.0025748676455987886), (396, 0.002563887795264503), (278, 0.002553269875174281), (141, 0.0024836593727757855), (269, 0.00248204306444265), (248, 0.0024744671084506262), (121, 0.002417630353213699), (264, 0.00240682809717617), (183, 0.0023622797895873704), (272, 0.00234588591520481), (58, 0.0022954833125848374), (37, 0.002240540147200645), (178, 0.0022364709087611787), (210, 0.002197878032965283), (54, 0.002165391775453511), (13, 0.002150847565656335), (218, 0.0019834224043995814), (230, 0.0018929624666428296), (142, 0.0018889540303510105), (190, 0.001759182655792165), (136, 0.001739181136135416), (5, 0.0016516915123987624), (89, 0.0016016431169203367), (307, 0.0014127696100504688), (266, 0.0013502847910193854), (212, 0.001190219409863722), (308, 0.0009232903385080465)]\n"
     ]
    }
   ],
   "source": [
    "print(sorted_similar_food)"
   ]
  },
  {
   "cell_type": "markdown",
   "id": "eb93267e-e27e-44a8-9dc0-74afb6226e5f",
   "metadata": {},
   "source": [
    "Printing all the names of the Suggested Foods"
   ]
  },
  {
   "cell_type": "code",
   "execution_count": 33,
   "id": "6cf59319-24de-4cda-8735-8662bbbc64bb",
   "metadata": {
    "scrolled": true
   },
   "outputs": [
    {
     "name": "stdout",
     "output_type": "stream",
     "text": [
      "Suggested Foods are:\n",
      "1 . Channa Masala\n",
      "2 . Mushroom Rice\n",
      "3 . Hyakula\n",
      "4 . Saag Alo \n",
      "5 . Jeera Alu\n",
      "6 . Alo Tama Bodi\n",
      "7 . Lamb Shashlik\n",
      "8 . spanish fish fry\n",
      "9 . strawberry quinoa pancakes\n",
      "10 . Quinoa Bowl and Berries\n",
      "11 . Cheese Naan\n",
      "12 . Bao Bun \n",
      "13 . Tarka Daal\n",
      "14 . ragi coconut ladoo (laddu)\n",
      "15 . chicken masala\n",
      "16 . prawn fried rice\n",
      "17 . ragi oats ladoo (laddu)\n",
      "18 . mixed salad with lotus root\n",
      "19 . dahi chicken\n",
      "20 . Mushroom Manchruian\n",
      "21 . crispy herb chicken\n",
      "22 . batter fish\n",
      "23 . lotus leaf wrapped fried rice\n",
      "24 . grilled lemon margarita\n",
      "25 . Biryani\n",
      "26 . spicy chicken masala\n",
      "27 . Cucumber and Radish Salad\n",
      "28 . Crispy Pakora\n",
      "29 . tandoori fish tikka\n",
      "30 . Alo Achar\n"
     ]
    }
   ],
   "source": [
    "# print('Suggested Foods are : ')\n",
    "# i=1\n",
    "# for food in soreted_similar_movie:\n",
    "#     index = food[0]\n",
    "    \n",
    "\n",
    "#     title_from_index = fooData[fooData.Food_ID==index]['Name'].values[0]\n",
    "\n",
    "#     if(i<30):\n",
    "#         print(i, '.',title_from_index)\n",
    "#         i+=1\n",
    "\n",
    "print('Suggested Foods are:')\n",
    "i = 1\n",
    "\n",
    "for dish in sorted_similar_food:\n",
    "    index = dish[0]\n",
    "    \n",
    "    # Filter fooData by Food_ID and retrieve the corresponding Name (if available)\n",
    "    filtered_data = fooData[fooData.Food_ID == index]\n",
    "    \n",
    "    if not filtered_data.empty:\n",
    "        title_from_index = filtered_data['Name'].iloc[0]  # Using .iloc[0] to access the first row's 'Name'\n",
    "        print(i, '.', title_from_index)\n",
    "        i += 1\n",
    "        if i >= 31:\n",
    "            break  # Exit the loop if we've printed 30 suggestions (starting from 1)\n",
    "    else:\n",
    "        print(f\"No food found for Food_ID: {index}\")\n",
    "\n",
    "# If fewer than 31 suggestions were printed, you may want to handle this case separately\n",
    "if i == 1:\n",
    "    print(\"No suggestions available.\")"
   ]
  },
  {
   "cell_type": "markdown",
   "id": "47602d47-32d1-4c35-8137-4d3021d4ab18",
   "metadata": {},
   "source": [
    "FOOD RECC SYSTEM INTERACTIVE MODEL"
   ]
  },
  {
   "cell_type": "code",
   "execution_count": 35,
   "id": "bd9e69b3-503b-4add-a790-dce2636aa631",
   "metadata": {},
   "outputs": [
    {
     "name": "stdin",
     "output_type": "stream",
     "text": [
      "Enter the Name of your Fav Dish :   pizza\n"
     ]
    },
    {
     "name": "stdout",
     "output_type": "stream",
     "text": [
      "Suggested Foods are:\n",
      "1 . filo pizza\n",
      "2 . lemon poppy seed cake\n",
      "3 . french pork chop\n",
      "4 . mixed vegetable soup\n",
      "5 . batter fish\n",
      "6 . japanese curry arancini with barley salsa\n",
      "7 . chicken parmigiana with tomato sauce\n",
      "8 . dark night\n",
      "9 . chocolate prunes gujiyas\n",
      "10 . plum cake\n"
     ]
    }
   ],
   "source": [
    "foodName = input('Enter the Name of your Fav Dish :  ')\n",
    "ListAlltitle = fooData['Name'].tolist()\n",
    "FindCloseMatch = difflib.get_close_matches(foodName,ListAlltitle)\n",
    "close_match = FindCloseMatch[0]\n",
    "index_of_food = fooData[fooData.Name == close_match]['Food_ID'].values[0]\n",
    "similarity_score = list(enumerate(similarity[index_of_food]))\n",
    "sorted_similar_food = sorted(similarity_score, key =lambda x:x[1],reverse = True)\n",
    "\n",
    "\n",
    "print('Suggested Foods are:')\n",
    "i = 1\n",
    "\n",
    "for dish in sorted_similar_food:\n",
    "    index = dish[0]\n",
    "    \n",
    "    # Filter fooData by Food_ID and retrieve the corresponding Name (if available)\n",
    "    filtered_data = fooData[fooData.Food_ID == index]\n",
    "    \n",
    "    if not filtered_data.empty:\n",
    "        title_from_index = filtered_data['Name'].iloc[0]  # Using .iloc[0] to access the first row's 'Name'\n",
    "        print(i, '.', title_from_index)\n",
    "        i += 1\n",
    "        if i >= 11:\n",
    "            break  # Exit the loop if we've printed 30 suggestions (starting from 1)\n",
    "    else:\n",
    "        print(f\"No food found for Food_ID: {index}\")\n",
    "\n",
    "# If fewer than 31 suggestions were printed, you may want to handle this case separately\n",
    "if i == 1:\n",
    "    print(\"No suggestions available.\")\n"
   ]
  },
  {
   "cell_type": "code",
   "execution_count": null,
   "id": "1d5d327d-8af0-4d9a-a1e5-87b871509eac",
   "metadata": {},
   "outputs": [],
   "source": []
  }
 ],
 "metadata": {
  "kernelspec": {
   "display_name": "Python 3 (ipykernel)",
   "language": "python",
   "name": "python3"
  },
  "language_info": {
   "codemirror_mode": {
    "name": "ipython",
    "version": 3
   },
   "file_extension": ".py",
   "mimetype": "text/x-python",
   "name": "python",
   "nbconvert_exporter": "python",
   "pygments_lexer": "ipython3",
   "version": "3.11.7"
  }
 },
 "nbformat": 4,
 "nbformat_minor": 5
}
